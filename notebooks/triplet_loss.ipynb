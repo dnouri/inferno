{
 "cells": [
  {
   "cell_type": "markdown",
   "metadata": {},
   "source": [
    "# Triplet loss"
   ]
  },
  {
   "cell_type": "markdown",
   "metadata": {},
   "source": [
    "Example showcasing how to use skorch with triplet loss."
   ]
  },
  {
   "cell_type": "markdown",
   "metadata": {},
   "source": [
    "At first glance, it might not be quite obvious how to implement something like nets that use contrastive loss or triplet loss with skorch. Here is an example of using triplet loss that could be used as a starting point."
   ]
  },
  {
   "cell_type": "markdown",
   "metadata": {},
   "source": [
    "## Imports"
   ]
  },
  {
   "cell_type": "code",
   "execution_count": 1,
   "metadata": {},
   "outputs": [],
   "source": [
    "import matplotlib.pyplot as plt\n",
    "import numpy as np\n",
    "from sklearn.datasets import make_classification\n",
    "from sklearn.neighbors import KNeighborsClassifier\n",
    "from sklearn.dummy import DummyClassifier\n",
    "from sklearn.model_selection import cross_val_score\n",
    "from sklearn.model_selection import train_test_split\n",
    "from skorch import NeuralNet\n",
    "from skorch.utils import data_from_dataset\n",
    "from skorch.toy import MLPModule\n",
    "import torch\n",
    "from torch import nn\n",
    "from torch.utils.data import Sampler, BatchSampler"
   ]
  },
  {
   "cell_type": "code",
   "execution_count": 2,
   "metadata": {},
   "outputs": [
    {
     "name": "stdout",
     "output_type": "stream",
     "text": [
      "Populating the interactive namespace from numpy and matplotlib\n"
     ]
    }
   ],
   "source": [
    "%pylab inline"
   ]
  },
  {
   "cell_type": "code",
   "execution_count": 3,
   "metadata": {},
   "outputs": [],
   "source": [
    "plt.style.use('seaborn')"
   ]
  },
  {
   "cell_type": "code",
   "execution_count": 4,
   "metadata": {},
   "outputs": [],
   "source": [
    "np.random.seed(0)\n",
    "torch.manual_seed(0)\n",
    "torch.cuda.manual_seed(0)\n",
    "device = 'cuda' if torch.cuda.is_available() else 'cpu'"
   ]
  },
  {
   "cell_type": "markdown",
   "metadata": {},
   "source": [
    "## Prepare data"
   ]
  },
  {
   "cell_type": "markdown",
   "metadata": {},
   "source": [
    "Use an artificial dataset consisting of 3 classes."
   ]
  },
  {
   "cell_type": "code",
   "execution_count": 5,
   "metadata": {},
   "outputs": [],
   "source": [
    "X, y = make_classification(2000, n_features=50, n_informative=40, n_classes=3)"
   ]
  },
  {
   "cell_type": "code",
   "execution_count": 6,
   "metadata": {},
   "outputs": [],
   "source": [
    "X, y = make_classification(2000, n_features=50, n_informative=40, n_classes=5)"
   ]
  },
  {
   "cell_type": "code",
   "execution_count": 7,
   "metadata": {},
   "outputs": [],
   "source": [
    "X = X.astype(np.float32)"
   ]
  },
  {
   "cell_type": "code",
   "execution_count": 8,
   "metadata": {},
   "outputs": [],
   "source": [
    "X_train, X_valid, y_train, y_valid = train_test_split(X, y)"
   ]
  },
  {
   "cell_type": "markdown",
   "metadata": {},
   "source": [
    "## Custom code"
   ]
  },
  {
   "cell_type": "markdown",
   "metadata": {},
   "source": [
    "### Fast random choice"
   ]
  },
  {
   "cell_type": "code",
   "execution_count": 9,
   "metadata": {},
   "outputs": [],
   "source": [
    "def fast_rand_choice(elems, p):\n",
    "    \"\"\"Choose a random element weighted by p.\n",
    "\n",
    "    Faster than np.random.choice, assumes that sum of p is one.\n",
    "\n",
    "    Thanks to: https://twitter.com/radimrehurek/status/928671225861296128\n",
    "\n",
    "    \"\"\"\n",
    "    return elems[np.searchsorted(np.cumsum(p), np.random.random())]"
   ]
  },
  {
   "cell_type": "markdown",
   "metadata": {},
   "source": [
    "### Custom skorch code"
   ]
  },
  {
   "cell_type": "code",
   "execution_count": 10,
   "metadata": {},
   "outputs": [],
   "source": [
    "class TripletSampler(torch.utils.data.Sampler):\n",
    "    \"\"\"Sampler that returns triplets during training.\n",
    "\n",
    "    At inference time (no y), only returns the normal samples.\n",
    "    \n",
    "    Use this in confunction with a skorch.dataset.Dataset.\n",
    "    The batch size must be a multiple of 3.\n",
    "\n",
    "    \"\"\"\n",
    "    def __init__(self, data_source, shuffle=False):\n",
    "        self.data_source = data_source\n",
    "        self.shuffle = shuffle\n",
    "\n",
    "        self._indices = np.arange(len(self.data_source))\n",
    "        if self.shuffle:\n",
    "            np.random.shuffle(self._indices)\n",
    "\n",
    "    @staticmethod\n",
    "    def get_sample_weight_pos(y, i):\n",
    "        sample_weight = y == y[i]\n",
    "        sample_weight[i] = 0\n",
    "        sample_weight = sample_weight / sample_weight.sum()\n",
    "        return sample_weight\n",
    "\n",
    "    @staticmethod\n",
    "    def get_sample_weight_neg(y, i):\n",
    "        sample_weight = y != y[i]\n",
    "        sample_weight = sample_weight / sample_weight.sum()\n",
    "        return sample_weight\n",
    "\n",
    "    def __iter__(self):\n",
    "        _, y = data_from_dataset(self.data_source)\n",
    "        is_inference = y is None\n",
    "\n",
    "        for i in self._indices:\n",
    "            yield i\n",
    "            if is_inference:\n",
    "                continue\n",
    "\n",
    "            p_pos = self.get_sample_weight_pos(y, i)\n",
    "            j = fast_rand_choice(self._indices, p=p_pos)\n",
    "            yield j\n",
    "\n",
    "            p_neg = self.get_sample_weight_neg(y, i)\n",
    "            k = fast_rand_choice(self._indices, p=p_neg)\n",
    "            yield k\n",
    "\n",
    "    def __len__(self):\n",
    "        return len(self.data_source)"
   ]
  },
  {
   "cell_type": "code",
   "execution_count": 11,
   "metadata": {},
   "outputs": [],
   "source": [
    "def triplet_dataloader(ds, **kwargs):\n",
    "    \"\"\"Returns a DataLoader that uses TripletSampler.\n",
    "    \n",
    "    Batch size should be a multiple of 3.\n",
    "    \n",
    "    \"\"\"\n",
    "    shuffle = False\n",
    "    if 'shuffle' in kwargs:\n",
    "        shuffle = kwargs.pop('shuffle')\n",
    "\n",
    "    sampler = TripletSampler(ds, shuffle=shuffle)\n",
    "    dl = torch.utils.data.DataLoader(ds, sampler=sampler, **kwargs)\n",
    "    yield from dl"
   ]
  },
  {
   "cell_type": "code",
   "execution_count": 12,
   "metadata": {},
   "outputs": [],
   "source": [
    "class TripletNet(NeuralNet):\n",
    "    \"\"\"Modified NeuralNet that works with TripletMarginLoss\n",
    "    \n",
    "    Batch size should be a multiple of 3.\n",
    "    \n",
    "    \"\"\"\n",
    "    def get_loss(self, y_pred, y_true, X=None, training=False):\n",
    "        if len(y_pred) % 3 != 0:\n",
    "            raise ValueError(\"Batch size must be a multiple of 3, get {} instead.\".format(len(y_pred)))\n",
    "\n",
    "        y_anchor = y_pred[::3]\n",
    "        y_pos = y_pred[1::3]\n",
    "        y_neg = y_pred[2::3]\n",
    "        return self.criterion_(y_anchor, y_pos, y_neg)"
   ]
  },
  {
   "cell_type": "markdown",
   "metadata": {},
   "source": [
    "## Training"
   ]
  },
  {
   "cell_type": "markdown",
   "metadata": {},
   "source": [
    "Use a simple MLP and `TripletMarginLoss` to embed the 50-dimensional input space into a 2-dimensional output space. The loss takes care of separating the 3 classes."
   ]
  },
  {
   "cell_type": "code",
   "execution_count": 13,
   "metadata": {},
   "outputs": [],
   "source": [
    "net = TripletNet(\n",
    "    MLPModule,\n",
    "    module__input_units=X.shape[1], \n",
    "    module__output_units=2,\n",
    "    module__num_hidden=2,\n",
    "    module__hidden_units=200,\n",
    "\n",
    "    optimizer=torch.optim.Adam,\n",
    "    lr=1e-3,\n",
    "    criterion=nn.TripletMarginLoss,\n",
    "    criterion__margin=1,\n",
    "    max_epochs=20,\n",
    "    \n",
    "    iterator_train=triplet_dataloader,\n",
    "    #iterator_train__shuffle=True,\n",
    "    iterator_valid=triplet_dataloader,\n",
    "    batch_size=3*32,  # must be a multiple of 3\n",
    "\n",
    "    device=device,\n",
    ")"
   ]
  },
  {
   "cell_type": "code",
   "execution_count": 14,
   "metadata": {
    "scrolled": false
   },
   "outputs": [
    {
     "name": "stdout",
     "output_type": "stream",
     "text": [
      "  epoch    train_loss    valid_loss     dur\n",
      "-------  ------------  ------------  ------\n",
      "      1        \u001b[36m0.9749\u001b[0m        \u001b[32m0.9908\u001b[0m  0.5012\n",
      "      2        0.9871        \u001b[32m0.9641\u001b[0m  0.4582\n",
      "      3        \u001b[36m0.9138\u001b[0m        \u001b[32m0.8881\u001b[0m  0.4816\n",
      "      4        \u001b[36m0.7909\u001b[0m        \u001b[32m0.8876\u001b[0m  0.6652\n",
      "      5        \u001b[36m0.7392\u001b[0m        \u001b[32m0.7849\u001b[0m  0.5281\n",
      "      6        \u001b[36m0.6578\u001b[0m        \u001b[32m0.7464\u001b[0m  0.5551\n",
      "      7        \u001b[36m0.5916\u001b[0m        0.8120  0.6516\n",
      "      8        \u001b[36m0.5110\u001b[0m        \u001b[32m0.7412\u001b[0m  0.4454\n",
      "      9        \u001b[36m0.4437\u001b[0m        0.8141  0.4300\n",
      "     10        \u001b[36m0.3780\u001b[0m        0.7580  0.4355\n",
      "     11        \u001b[36m0.3398\u001b[0m        \u001b[32m0.6124\u001b[0m  0.4962\n",
      "     12        \u001b[36m0.2880\u001b[0m        0.6871  0.4598\n",
      "     13        \u001b[36m0.2397\u001b[0m        0.6823  0.4312\n",
      "     14        \u001b[36m0.1907\u001b[0m        0.6851  0.4371\n",
      "     15        \u001b[36m0.1712\u001b[0m        0.6438  0.4359\n",
      "     16        \u001b[36m0.1679\u001b[0m        0.6740  0.4656\n",
      "     17        \u001b[36m0.1516\u001b[0m        0.6284  0.4359\n",
      "     18        \u001b[36m0.1113\u001b[0m        0.6155  0.4566\n",
      "     19        0.1260        \u001b[32m0.6080\u001b[0m  0.4469\n",
      "     20        \u001b[36m0.1082\u001b[0m        \u001b[32m0.5998\u001b[0m  0.4513\n"
     ]
    },
    {
     "data": {
      "text/plain": [
       "<class '__main__.TripletNet'>[initialized](\n",
       "  module_=MLPModule(\n",
       "    (nonlin): ReLU()\n",
       "    (sequential): Sequential(\n",
       "      (0): Linear(in_features=50, out_features=200, bias=True)\n",
       "      (1): ReLU()\n",
       "      (2): Dropout(p=0)\n",
       "      (3): Linear(in_features=200, out_features=200, bias=True)\n",
       "      (4): ReLU()\n",
       "      (5): Dropout(p=0)\n",
       "      (6): Linear(in_features=200, out_features=2, bias=True)\n",
       "    )\n",
       "  ),\n",
       ")"
      ]
     },
     "execution_count": 14,
     "metadata": {},
     "output_type": "execute_result"
    }
   ],
   "source": [
    "net.fit(X_train, y_train)"
   ]
  },
  {
   "cell_type": "markdown",
   "metadata": {},
   "source": [
    "## Visualization"
   ]
  },
  {
   "cell_type": "markdown",
   "metadata": {},
   "source": [
    "Use the hold-out validation data to show that the net learned to separate the 3 classes."
   ]
  },
  {
   "cell_type": "code",
   "execution_count": 15,
   "metadata": {},
   "outputs": [],
   "source": [
    "X_emb = net.predict(X_valid)"
   ]
  },
  {
   "cell_type": "code",
   "execution_count": 16,
   "metadata": {},
   "outputs": [
    {
     "data": {
      "text/plain": [
       "<matplotlib.legend.Legend at 0x7f63500d3198>"
      ]
     },
     "execution_count": 16,
     "metadata": {},
     "output_type": "execute_result"
    },
    {
     "data": {
      "image/png": "[encoded data removed]",
      "text/plain": [
       "<Figure size 576x396 with 1 Axes>"
      ]
     },
     "metadata": {},
     "output_type": "display_data"
    }
   ],
   "source": [
    "for yi in set(y_valid):\n",
    "    mask = y_valid == yi\n",
    "    plt.scatter(X_emb[mask, 0], X_emb[mask, 1], label=\"class {}\".format(yi))\n",
    "plt.legend()"
   ]
  },
  {
   "cell_type": "markdown",
   "metadata": {},
   "source": [
    "## Predicting on the embeddings"
   ]
  },
  {
   "cell_type": "markdown",
   "metadata": {},
   "source": [
    "We train a simple KNN classifier, once on the original input features, `X_valid`, and once on the embedded features, `X_emb`. The classifier is actually more accurate on the embedded features, meaning that the embeddings are indeed useful."
   ]
  },
  {
   "cell_type": "code",
   "execution_count": 17,
   "metadata": {},
   "outputs": [
    {
     "data": {
      "text/plain": [
       "0.5338887555022008"
      ]
     },
     "execution_count": 17,
     "metadata": {},
     "output_type": "execute_result"
    }
   ],
   "source": [
    "scores = cross_val_score(KNeighborsClassifier(), X_valid, y_valid, scoring='accuracy', cv=5)\n",
    "scores.mean()"
   ]
  },
  {
   "cell_type": "code",
   "execution_count": 18,
   "metadata": {},
   "outputs": [
    {
     "data": {
      "text/plain": [
       "0.6257022809123649"
      ]
     },
     "execution_count": 18,
     "metadata": {},
     "output_type": "execute_result"
    }
   ],
   "source": [
    "scores = cross_val_score(KNeighborsClassifier(), X_emb, y_valid, scoring='accuracy', cv=5)\n",
    "scores.mean()"
   ]
  },
  {
   "cell_type": "markdown",
   "metadata": {},
   "source": [
    "Just for completeness, we show that a dummy classifier performs much worse on the same data, proving that the results are not due to luck."
   ]
  },
  {
   "cell_type": "code",
   "execution_count": 19,
   "metadata": {},
   "outputs": [
    {
     "data": {
      "text/plain": [
       "0.2038327330932373"
      ]
     },
     "execution_count": 19,
     "metadata": {},
     "output_type": "execute_result"
    }
   ],
   "source": [
    "scores = cross_val_score(DummyClassifier(), X_emb, y_valid, scoring='accuracy', cv=5)\n",
    "scores.mean()"
   ]
  }
 ],
 "metadata": {
  "kernelspec": {
   "display_name": "Python 3",
   "language": "python",
   "name": "python3"
  },
  "language_info": {
   "codemirror_mode": {
    "name": "ipython",
    "version": 3
   },
   "file_extension": ".py",
   "mimetype": "text/x-python",
   "name": "python",
   "nbconvert_exporter": "python",
   "pygments_lexer": "ipython3",
   "version": "3.6.2"
  }
 },
 "nbformat": 4,
 "nbformat_minor": 2
}
