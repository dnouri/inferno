{
 "cells": [
  {
   "cell_type": "markdown",
   "metadata": {},
   "source": [
    "# Basic usage"
   ]
  },
  {
   "cell_type": "markdown",
   "metadata": {},
   "source": [
    "*`skorch`* is designed to maximize interoperability between `sklearn` and `pytorch`. The aim is to keep 99% of the flexibility of `pytorch` while being able to leverage most features of `sklearn`. Below, we show the basic usage of `skorch` and how it can be combined with `sklearn`."
   ]
  },
  {
   "cell_type": "markdown",
   "metadata": {},
   "source": [
    "This notebook shows you how to use the basic functionality of `skorch`."
   ]
  },
  {
   "cell_type": "markdown",
   "metadata": {},
   "source": [
    "### Table of contents"
   ]
  },
  {
   "cell_type": "markdown",
   "metadata": {},
   "source": [
    "* [Definition of the pytorch module](#Definition-of-the-pytorch-module)\n",
    "* [Training a classifier](#Training-a-classifier-and-making-predictions)\n",
    "  * [Dataset](#A-toy-binary-classification-task)\n",
    "  * [pytorch module](#Definition-of-the-pytorch-classification-module)\n",
    "  * [Model training](#Defining-and-training-the-neural-net-classifier)\n",
    "  * [Inference](#Making-predictions,-classification)\n",
    "* [Training a regressor](#Training-a-regressor)\n",
    "  * [Dataset](#A-toy-regression-task)\n",
    "  * [pytorch module](#Definition-of-the-pytorch-regression-module)\n",
    "  * [Model training](#Defining-and-training-the-neural-net-regressor)\n",
    "  * [Inference](#Making-predictions,-regression)\n",
    "* [Saving and loading a model](#Saving-and-loading-a-model)\n",
    "  * [Whole model](#Saving-the-whole-model)\n",
    "  * [Only parameters](#Saving-only-the-model-parameters)\n",
    "* [Usage with an sklearn Pipeline](#Usage-with-an-sklearn-Pipeline)\n",
    "* [Callbacks](#Callbacks)\n",
    "* [Grid search](#Usage-with-sklearn-GridSearchCV)\n",
    "  * [Special prefixes](#Special-prefixes)\n",
    "  * [Performing a grid search](#Performing-a-grid-search)"
   ]
  },
  {
   "cell_type": "code",
   "execution_count": 1,
   "metadata": {
    "collapsed": true
   },
   "outputs": [],
   "source": [
    "import torch\n",
    "from torch import nn\n",
    "import torch.nn.functional as F"
   ]
  },
  {
   "cell_type": "code",
   "execution_count": 2,
   "metadata": {
    "collapsed": true
   },
   "outputs": [],
   "source": [
    "torch.manual_seed(0);"
   ]
  },
  {
   "cell_type": "markdown",
   "metadata": {},
   "source": [
    "## Training a classifier and making predictions"
   ]
  },
  {
   "cell_type": "markdown",
   "metadata": {},
   "source": [
    "### A toy binary classification task"
   ]
  },
  {
   "cell_type": "markdown",
   "metadata": {},
   "source": [
    "We load a toy classification task from `sklearn`."
   ]
  },
  {
   "cell_type": "code",
   "execution_count": 3,
   "metadata": {
    "collapsed": true
   },
   "outputs": [],
   "source": [
    "import numpy as np\n",
    "from sklearn.datasets import make_classification"
   ]
  },
  {
   "cell_type": "code",
   "execution_count": 4,
   "metadata": {
    "collapsed": true
   },
   "outputs": [],
   "source": [
    "X, y = make_classification(1000, 20, n_informative=10, random_state=0)\n",
    "X = X.astype(np.float32)"
   ]
  },
  {
   "cell_type": "code",
   "execution_count": 5,
   "metadata": {
    "scrolled": true
   },
   "outputs": [
    {
     "data": {
      "text/plain": [
       "((1000, 20), (1000,), 0.5)"
      ]
     },
     "execution_count": 5,
     "metadata": {},
     "output_type": "execute_result"
    }
   ],
   "source": [
    "X.shape, y.shape, y.mean()"
   ]
  },
  {
   "cell_type": "markdown",
   "metadata": {},
   "source": [
    "### Definition of the `pytorch` classification `module`"
   ]
  },
  {
   "cell_type": "markdown",
   "metadata": {},
   "source": [
    "We define a vanilla neural network with two hidden layers. The output layer should have 2 output units since there are two classes. In addition, it should have a softmax nonlinearity, because later, when calling `predict_proba`, the output from the `forward` call will be used."
   ]
  },
  {
   "cell_type": "code",
   "execution_count": 6,
   "metadata": {
    "collapsed": true
   },
   "outputs": [],
   "source": [
    "class ClassifierModule(nn.Module):\n",
    "    def __init__(\n",
    "            self,\n",
    "            num_units=10,\n",
    "            nonlin=F.relu,\n",
    "            dropout=0.5,\n",
    "    ):\n",
    "        super(ClassifierModule, self).__init__()\n",
    "        self.num_units = num_units\n",
    "        self.nonlin = nonlin\n",
    "        self.dropout = dropout\n",
    "\n",
    "        self.dense0 = nn.Linear(20, num_units)\n",
    "        self.nonlin = nonlin\n",
    "        self.dropout = nn.Dropout(dropout)\n",
    "        self.dense1 = nn.Linear(num_units, 10)\n",
    "        self.output = nn.Linear(10, 2)\n",
    "\n",
    "    def forward(self, X, **kwargs):\n",
    "        X = self.nonlin(self.dense0(X))\n",
    "        X = self.dropout(X)\n",
    "        X = F.relu(self.dense1(X))\n",
    "        X = F.softmax(self.output(X))\n",
    "        return X"
   ]
  },
  {
   "cell_type": "markdown",
   "metadata": {},
   "source": [
    "### Defining and training the neural net classifier"
   ]
  },
  {
   "cell_type": "markdown",
   "metadata": {},
   "source": [
    "We use `NeuralNetClassifier` because we're dealing with a classifcation task. The first argument should be the `pytorch module`. As additional arguments, we pass the number of epochs and the learning rate (`lr`), but those are optional.\n",
    "\n",
    "*Note*: To use the cuda backend, pass `use_cuda=True` as an additional argument."
   ]
  },
  {
   "cell_type": "code",
   "execution_count": 7,
   "metadata": {
    "collapsed": true
   },
   "outputs": [],
   "source": [
    "from skorch.net import NeuralNetClassifier"
   ]
  },
  {
   "cell_type": "code",
   "execution_count": 8,
   "metadata": {
    "collapsed": true
   },
   "outputs": [],
   "source": [
    "net = NeuralNetClassifier(\n",
    "    ClassifierModule,\n",
    "    max_epochs=20,\n",
    "    lr=0.1,\n",
    "    # use_cuda=True,  # uncomment this to train with CUDA\n",
    ")"
   ]
  },
  {
   "cell_type": "markdown",
   "metadata": {},
   "source": [
    "As in `sklearn`, we call `fit` passing the input data `X` and the targets `y`. By default, `NeuralNetClassifier` makes a `StratifiedKFold` split on the data (80/20) to track the validation loss. This is shown, as well as the train loss and the accuracy on the validation set."
   ]
  },
  {
   "cell_type": "code",
   "execution_count": 9,
   "metadata": {},
   "outputs": [
    {
     "name": "stdout",
     "output_type": "stream",
     "text": [
      "  epoch    train_loss    valid_acc    valid_loss     dur\n",
      "-------  ------------  -----------  ------------  ------\n",
      "      1        \u001b[36m0.7111\u001b[0m       \u001b[32m0.5100\u001b[0m        \u001b[35m0.6894\u001b[0m  0.1407\n",
      "      2        \u001b[36m0.6928\u001b[0m       \u001b[32m0.5500\u001b[0m        \u001b[35m0.6803\u001b[0m  0.0775\n",
      "      3        \u001b[36m0.6833\u001b[0m       \u001b[32m0.5650\u001b[0m        \u001b[35m0.6741\u001b[0m  0.0726\n",
      "      4        \u001b[36m0.6763\u001b[0m       \u001b[32m0.5850\u001b[0m        \u001b[35m0.6674\u001b[0m  0.0670\n",
      "      5        \u001b[36m0.6727\u001b[0m       \u001b[32m0.6450\u001b[0m        \u001b[35m0.6616\u001b[0m  0.0656\n",
      "      6        \u001b[36m0.6606\u001b[0m       \u001b[32m0.6600\u001b[0m        \u001b[35m0.6536\u001b[0m  0.0969\n",
      "      7        \u001b[36m0.6560\u001b[0m       0.6600        \u001b[35m0.6443\u001b[0m  0.0625\n",
      "      8        \u001b[36m0.6427\u001b[0m       \u001b[32m0.6650\u001b[0m        \u001b[35m0.6354\u001b[0m  0.0646\n",
      "      9        \u001b[36m0.6300\u001b[0m       \u001b[32m0.6800\u001b[0m        \u001b[35m0.6264\u001b[0m  0.0758\n",
      "     10        \u001b[36m0.6289\u001b[0m       0.6800        \u001b[35m0.6189\u001b[0m  0.1337\n",
      "     11        \u001b[36m0.6241\u001b[0m       \u001b[32m0.7150\u001b[0m        \u001b[35m0.6114\u001b[0m  0.0667\n",
      "     12        \u001b[36m0.6132\u001b[0m       0.7150        \u001b[35m0.6017\u001b[0m  0.1059\n",
      "     13        \u001b[36m0.5950\u001b[0m       \u001b[32m0.7350\u001b[0m        \u001b[35m0.5902\u001b[0m  0.0837\n",
      "     14        \u001b[36m0.5914\u001b[0m       0.7200        \u001b[35m0.5831\u001b[0m  0.0692\n",
      "     15        \u001b[36m0.5784\u001b[0m       0.7300        \u001b[35m0.5733\u001b[0m  0.0538\n",
      "     16        0.5816       \u001b[32m0.7400\u001b[0m        \u001b[35m0.5665\u001b[0m  0.0567\n",
      "     17        \u001b[36m0.5766\u001b[0m       \u001b[32m0.7450\u001b[0m        \u001b[35m0.5616\u001b[0m  0.0643\n",
      "     18        \u001b[36m0.5636\u001b[0m       0.7450        \u001b[35m0.5559\u001b[0m  0.0517\n",
      "     19        \u001b[36m0.5517\u001b[0m       0.7350        \u001b[35m0.5527\u001b[0m  0.0521\n",
      "     20        0.5570       0.7350        \u001b[35m0.5492\u001b[0m  0.0580\n"
     ]
    },
    {
     "data": {
      "text/plain": [
       "<skorch.net.NeuralNetClassifier at 0x7ff019ec0908>"
      ]
     },
     "execution_count": 9,
     "metadata": {},
     "output_type": "execute_result"
    }
   ],
   "source": [
    "net.fit(X, y)"
   ]
  },
  {
   "cell_type": "markdown",
   "metadata": {},
   "source": [
    "Also, as in `sklearn`, you may call `predict` or `predict_proba` on the fitted model."
   ]
  },
  {
   "cell_type": "markdown",
   "metadata": {},
   "source": [
    "### Making predictions, classification"
   ]
  },
  {
   "cell_type": "code",
   "execution_count": 10,
   "metadata": {},
   "outputs": [
    {
     "data": {
      "text/plain": [
       "array([1, 0, 0, 0, 0])"
      ]
     },
     "execution_count": 10,
     "metadata": {},
     "output_type": "execute_result"
    }
   ],
   "source": [
    "y_pred = net.predict(X[:5])\n",
    "y_pred"
   ]
  },
  {
   "cell_type": "code",
   "execution_count": 11,
   "metadata": {},
   "outputs": [
    {
     "data": {
      "text/plain": [
       "array([[ 0.33409804,  0.66590196],\n",
       "       [ 0.65906334,  0.34093666],\n",
       "       [ 0.70409262,  0.29590738],\n",
       "       [ 0.70345545,  0.29654452],\n",
       "       [ 0.65079051,  0.34920952]], dtype=float32)"
      ]
     },
     "execution_count": 11,
     "metadata": {},
     "output_type": "execute_result"
    }
   ],
   "source": [
    "y_proba = net.predict_proba(X[:5])\n",
    "y_proba"
   ]
  },
  {
   "cell_type": "markdown",
   "metadata": {},
   "source": [
    "## Training a regressor"
   ]
  },
  {
   "cell_type": "markdown",
   "metadata": {},
   "source": [
    "### A toy regression task"
   ]
  },
  {
   "cell_type": "code",
   "execution_count": 12,
   "metadata": {
    "collapsed": true
   },
   "outputs": [],
   "source": [
    "from sklearn.datasets import make_regression"
   ]
  },
  {
   "cell_type": "code",
   "execution_count": 13,
   "metadata": {
    "collapsed": true
   },
   "outputs": [],
   "source": [
    "X_regr, y_regr = make_regression(1000, 20, n_informative=10, random_state=0)\n",
    "X_regr = X_regr.astype(np.float32)\n",
    "y_regr = y_regr.astype(np.float32) / 100\n",
    "y_regr = y_regr.reshape(-1, 1)"
   ]
  },
  {
   "cell_type": "code",
   "execution_count": 14,
   "metadata": {
    "scrolled": true
   },
   "outputs": [
    {
     "data": {
      "text/plain": [
       "((1000, 20), (1000, 1), -6.4901485, 6.1545048)"
      ]
     },
     "execution_count": 14,
     "metadata": {},
     "output_type": "execute_result"
    }
   ],
   "source": [
    "X_regr.shape, y_regr.shape, y_regr.min(), y_regr.max()"
   ]
  },
  {
   "cell_type": "markdown",
   "metadata": {},
   "source": [
    "*Note*: Regression currently requires the target to be 2-dimensional, hence the need to reshape. This should be fixed with an upcoming version of pytorch."
   ]
  },
  {
   "cell_type": "markdown",
   "metadata": {},
   "source": [
    "### Definition of the `pytorch` regression `module`"
   ]
  },
  {
   "cell_type": "markdown",
   "metadata": {},
   "source": [
    "Again, define a vanilla neural network with two hidden layers. The main difference is that the output layer only has one unit and does not apply a softmax nonlinearity."
   ]
  },
  {
   "cell_type": "code",
   "execution_count": 15,
   "metadata": {
    "collapsed": true
   },
   "outputs": [],
   "source": [
    "class RegressorModule(nn.Module):\n",
    "    def __init__(\n",
    "            self,\n",
    "            num_units=10,\n",
    "            nonlin=F.relu,\n",
    "    ):\n",
    "        super(RegressorModule, self).__init__()\n",
    "        self.num_units = num_units\n",
    "        self.nonlin = nonlin\n",
    "\n",
    "        self.dense0 = nn.Linear(20, num_units)\n",
    "        self.nonlin = nonlin\n",
    "        self.dense1 = nn.Linear(num_units, 10)\n",
    "        self.output = nn.Linear(10, 1)\n",
    "\n",
    "    def forward(self, X, **kwargs):\n",
    "        X = self.nonlin(self.dense0(X))\n",
    "        X = F.relu(self.dense1(X))\n",
    "        X = self.output(X)\n",
    "        return X"
   ]
  },
  {
   "cell_type": "markdown",
   "metadata": {},
   "source": [
    "### Defining and training the neural net regressor"
   ]
  },
  {
   "cell_type": "markdown",
   "metadata": {},
   "source": [
    "Training a regressor is almost the same as training a classifier. Mainly, we use `NeuralNetRegressor` instead of `NeuralNetClassifier` (this is the same terminology as in `sklearn`)."
   ]
  },
  {
   "cell_type": "code",
   "execution_count": 16,
   "metadata": {
    "collapsed": true
   },
   "outputs": [],
   "source": [
    "from skorch.net import NeuralNetRegressor"
   ]
  },
  {
   "cell_type": "code",
   "execution_count": 17,
   "metadata": {
    "collapsed": true
   },
   "outputs": [],
   "source": [
    "net_regr = NeuralNetRegressor(\n",
    "    RegressorModule,\n",
    "    max_epochs=20,\n",
    "    lr=0.1,\n",
    "    # use_cuda=True,  # uncomment this to train with CUDA\n",
    ")"
   ]
  },
  {
   "cell_type": "code",
   "execution_count": 18,
   "metadata": {},
   "outputs": [
    {
     "name": "stdout",
     "output_type": "stream",
     "text": [
      "  epoch    train_loss    valid_loss     dur\n",
      "-------  ------------  ------------  ------\n",
      "      1        \u001b[36m4.6084\u001b[0m        \u001b[32m3.8757\u001b[0m  0.0557\n",
      "      2        \u001b[36m3.9371\u001b[0m        \u001b[32m2.2167\u001b[0m  0.0525\n",
      "      3        \u001b[36m1.0512\u001b[0m        \u001b[32m0.2644\u001b[0m  0.0349\n",
      "      4        \u001b[36m0.2770\u001b[0m        0.3933  0.0363\n",
      "      5        0.3052        \u001b[32m0.1762\u001b[0m  0.0328\n",
      "      6        \u001b[36m0.1650\u001b[0m        \u001b[32m0.1601\u001b[0m  0.0324\n",
      "      7        \u001b[36m0.1115\u001b[0m        \u001b[32m0.0990\u001b[0m  0.0327\n",
      "      8        \u001b[36m0.1067\u001b[0m        0.1418  0.0387\n",
      "      9        \u001b[36m0.0907\u001b[0m        \u001b[32m0.0828\u001b[0m  0.0373\n",
      "     10        \u001b[36m0.0792\u001b[0m        \u001b[32m0.0760\u001b[0m  0.0381\n",
      "     11        \u001b[36m0.0470\u001b[0m        \u001b[32m0.0529\u001b[0m  0.0389\n",
      "     12        0.0500        \u001b[32m0.0426\u001b[0m  0.0387\n",
      "     13        \u001b[36m0.0266\u001b[0m        \u001b[32m0.0365\u001b[0m  0.0362\n",
      "     14        0.0346        \u001b[32m0.0255\u001b[0m  0.0398\n",
      "     15        \u001b[36m0.0170\u001b[0m        0.0269  0.0374\n",
      "     16        0.0253        \u001b[32m0.0170\u001b[0m  0.0365\n",
      "     17        \u001b[36m0.0123\u001b[0m        0.0213  0.0382\n",
      "     18        0.0197        \u001b[32m0.0122\u001b[0m  0.0392\n",
      "     19        \u001b[36m0.0096\u001b[0m        0.0177  0.0385\n",
      "     20        0.0166        \u001b[32m0.0104\u001b[0m  0.0424\n"
     ]
    },
    {
     "data": {
      "text/plain": [
       "<skorch.net.NeuralNetRegressor at 0x7ff018084518>"
      ]
     },
     "execution_count": 18,
     "metadata": {},
     "output_type": "execute_result"
    }
   ],
   "source": [
    "net_regr.fit(X_regr, y_regr)"
   ]
  },
  {
   "cell_type": "markdown",
   "metadata": {},
   "source": [
    "### Making predictions, regression"
   ]
  },
  {
   "cell_type": "markdown",
   "metadata": {},
   "source": [
    "You may call `predict` or `predict_proba` on the fitted model. For regressions, both methods return the same value."
   ]
  },
  {
   "cell_type": "code",
   "execution_count": 19,
   "metadata": {},
   "outputs": [
    {
     "data": {
      "text/plain": [
       "array([[ 0.70368975],\n",
       "       [-1.37799883],\n",
       "       [-0.60438287],\n",
       "       [ 0.0090515 ],\n",
       "       [-0.52674961]], dtype=float32)"
      ]
     },
     "execution_count": 19,
     "metadata": {},
     "output_type": "execute_result"
    }
   ],
   "source": [
    "y_pred = net_regr.predict(X_regr[:5])\n",
    "y_pred"
   ]
  },
  {
   "cell_type": "markdown",
   "metadata": {},
   "source": [
    "## Saving and loading a model"
   ]
  },
  {
   "cell_type": "markdown",
   "metadata": {
    "collapsed": true
   },
   "source": [
    "Save and load either the whole model by using pickle or just the learned model parameters by calling `save_params` and `load_params`."
   ]
  },
  {
   "cell_type": "markdown",
   "metadata": {},
   "source": [
    "### Saving the whole model"
   ]
  },
  {
   "cell_type": "code",
   "execution_count": 20,
   "metadata": {
    "collapsed": true
   },
   "outputs": [],
   "source": [
    "import pickle"
   ]
  },
  {
   "cell_type": "code",
   "execution_count": 21,
   "metadata": {
    "collapsed": true
   },
   "outputs": [],
   "source": [
    "file_name = '/tmp/mymodel.pkl'"
   ]
  },
  {
   "cell_type": "code",
   "execution_count": 22,
   "metadata": {},
   "outputs": [
    {
     "name": "stderr",
     "output_type": "stream",
     "text": [
      "/home/bbossan_dev/anaconda3/envs/skorch/lib/python3.6/site-packages/torch/serialization.py:147: UserWarning: Couldn't retrieve source code for container of type ClassifierModule. It won't be checked for correctness upon loading.\n",
      "  \"type \" + obj.__name__ + \". It won't be checked \"\n"
     ]
    }
   ],
   "source": [
    "with open(file_name, 'wb') as f:\n",
    "    pickle.dump(net, f)"
   ]
  },
  {
   "cell_type": "code",
   "execution_count": 23,
   "metadata": {
    "collapsed": true
   },
   "outputs": [],
   "source": [
    "with open(file_name, 'rb') as f:\n",
    "    new_net = pickle.load(f)"
   ]
  },
  {
   "cell_type": "markdown",
   "metadata": {},
   "source": [
    "### Saving only the model parameters"
   ]
  },
  {
   "cell_type": "markdown",
   "metadata": {},
   "source": [
    "This only saves and loads the proper `module` parameters, meaning that hyperparameters such as `lr` and `max_epochs` are not saved. Therefore, to load the model, we have to re-initialize it beforehand."
   ]
  },
  {
   "cell_type": "code",
   "execution_count": 24,
   "metadata": {
    "collapsed": true
   },
   "outputs": [],
   "source": [
    "net.save_params(file_name)  # a file handler also works"
   ]
  },
  {
   "cell_type": "code",
   "execution_count": 25,
   "metadata": {
    "collapsed": true
   },
   "outputs": [],
   "source": [
    "# first initialize the model\n",
    "new_net = NeuralNetClassifier(\n",
    "    ClassifierModule,\n",
    "    max_epochs=20,\n",
    "    lr=0.1,\n",
    ").initialize()"
   ]
  },
  {
   "cell_type": "code",
   "execution_count": 26,
   "metadata": {
    "collapsed": true
   },
   "outputs": [],
   "source": [
    "new_net.load_params(file_name)"
   ]
  },
  {
   "cell_type": "markdown",
   "metadata": {},
   "source": [
    "## Usage with an `sklearn Pipeline`"
   ]
  },
  {
   "cell_type": "markdown",
   "metadata": {},
   "source": [
    "It is possible to put the `NeuralNetClassifier` inside an `sklearn Pipeline`, as you would with any `sklearn` classifier."
   ]
  },
  {
   "cell_type": "code",
   "execution_count": 27,
   "metadata": {
    "collapsed": true
   },
   "outputs": [],
   "source": [
    "from sklearn.pipeline import Pipeline\n",
    "from sklearn.preprocessing import StandardScaler"
   ]
  },
  {
   "cell_type": "code",
   "execution_count": 28,
   "metadata": {
    "collapsed": true
   },
   "outputs": [],
   "source": [
    "pipe = Pipeline([\n",
    "    ('scale', StandardScaler()),\n",
    "    ('net', net),\n",
    "])"
   ]
  },
  {
   "cell_type": "code",
   "execution_count": 29,
   "metadata": {},
   "outputs": [
    {
     "name": "stdout",
     "output_type": "stream",
     "text": [
      "Re-initializing module!\n",
      "  epoch    train_loss    valid_acc    valid_loss     dur\n",
      "-------  ------------  -----------  ------------  ------\n",
      "      1        \u001b[36m0.6982\u001b[0m       \u001b[32m0.4950\u001b[0m        \u001b[35m0.6960\u001b[0m  0.1439\n",
      "      2        \u001b[36m0.6943\u001b[0m       \u001b[32m0.5300\u001b[0m        \u001b[35m0.6943\u001b[0m  0.1277\n",
      "      3        \u001b[36m0.6934\u001b[0m       0.5100        \u001b[35m0.6927\u001b[0m  0.0856\n",
      "      4        \u001b[36m0.6924\u001b[0m       0.5150        \u001b[35m0.6912\u001b[0m  0.0682\n",
      "      5        0.6931       0.5100        \u001b[35m0.6899\u001b[0m  0.0555\n",
      "      6        \u001b[36m0.6897\u001b[0m       \u001b[32m0.5350\u001b[0m        \u001b[35m0.6891\u001b[0m  0.0640\n",
      "      7        \u001b[36m0.6884\u001b[0m       \u001b[32m0.5450\u001b[0m        \u001b[35m0.6877\u001b[0m  0.0596\n",
      "      8        \u001b[36m0.6821\u001b[0m       \u001b[32m0.5650\u001b[0m        \u001b[35m0.6856\u001b[0m  0.0535\n",
      "      9        0.6854       \u001b[32m0.5800\u001b[0m        \u001b[35m0.6835\u001b[0m  0.0585\n",
      "     10        \u001b[36m0.6801\u001b[0m       \u001b[32m0.6000\u001b[0m        \u001b[35m0.6813\u001b[0m  0.0571\n",
      "     11        \u001b[36m0.6781\u001b[0m       \u001b[32m0.6150\u001b[0m        \u001b[35m0.6786\u001b[0m  0.0492\n",
      "     12        \u001b[36m0.6758\u001b[0m       \u001b[32m0.6200\u001b[0m        \u001b[35m0.6757\u001b[0m  0.0435\n",
      "     13        \u001b[36m0.6715\u001b[0m       \u001b[32m0.6250\u001b[0m        \u001b[35m0.6723\u001b[0m  0.0570\n",
      "     14        \u001b[36m0.6711\u001b[0m       \u001b[32m0.6350\u001b[0m        \u001b[35m0.6686\u001b[0m  0.0557\n",
      "     15        \u001b[36m0.6687\u001b[0m       0.6350        \u001b[35m0.6649\u001b[0m  0.0439\n",
      "     16        \u001b[36m0.6633\u001b[0m       \u001b[32m0.6500\u001b[0m        \u001b[35m0.6604\u001b[0m  0.0727\n",
      "     17        0.6634       0.6500        \u001b[35m0.6556\u001b[0m  0.0745\n",
      "     18        \u001b[36m0.6559\u001b[0m       0.6500        \u001b[35m0.6490\u001b[0m  0.0600\n",
      "     19        \u001b[36m0.6482\u001b[0m       \u001b[32m0.6550\u001b[0m        \u001b[35m0.6430\u001b[0m  0.1206\n",
      "     20        0.6498       \u001b[32m0.6650\u001b[0m        \u001b[35m0.6375\u001b[0m  0.0864\n"
     ]
    },
    {
     "data": {
      "text/plain": [
       "Pipeline(memory=None,\n",
       "     steps=[('scale', StandardScaler(copy=True, with_mean=True, with_std=True)), ('net', <skorch.net.NeuralNetClassifier object at 0x7ff019ec0908>)])"
      ]
     },
     "execution_count": 29,
     "metadata": {},
     "output_type": "execute_result"
    }
   ],
   "source": [
    "pipe.fit(X, y)"
   ]
  },
  {
   "cell_type": "code",
   "execution_count": 30,
   "metadata": {},
   "outputs": [
    {
     "data": {
      "text/plain": [
       "array([[ 0.52606189,  0.47393814],\n",
       "       [ 0.56090653,  0.43909347],\n",
       "       [ 0.58122021,  0.41877982],\n",
       "       [ 0.58913922,  0.41086078],\n",
       "       [ 0.58016819,  0.41983184]], dtype=float32)"
      ]
     },
     "execution_count": 30,
     "metadata": {},
     "output_type": "execute_result"
    }
   ],
   "source": [
    "y_proba = pipe.predict_proba(X[:5])\n",
    "y_proba"
   ]
  },
  {
   "cell_type": "markdown",
   "metadata": {},
   "source": [
    "To save the whole pipeline, including the pytorch module, use `pickle`."
   ]
  },
  {
   "cell_type": "markdown",
   "metadata": {},
   "source": [
    "## Callbacks"
   ]
  },
  {
   "cell_type": "markdown",
   "metadata": {},
   "source": [
    "Adding a new callback to the model is straightforward. Below we show how to add a new callback that determines the area under the ROC (AUC) score."
   ]
  },
  {
   "cell_type": "code",
   "execution_count": 31,
   "metadata": {
    "collapsed": true
   },
   "outputs": [],
   "source": [
    "from skorch.callbacks import Scoring\n",
    "from skorch.utils import to_numpy"
   ]
  },
  {
   "cell_type": "markdown",
   "metadata": {},
   "source": [
    "There is a scoring callback in skorch, `Scoring`, which we use for this. We need to specify a `name` of the score, as well as which score to calculate. Here we just pass a string, `'roc_auc_score'`, as score. For a list of all existing scores, look [here](http://scikit-learn.org/stable/modules/classes.html#sklearn-metrics-metrics). We could also pass a function with the signature `func(model, X, y) -> score`, or `None`, in which case the `score` method of the model is used. Note that this is exactly the same behavior as in `sklearn`."
   ]
  },
  {
   "cell_type": "code",
   "execution_count": 32,
   "metadata": {
    "collapsed": true
   },
   "outputs": [],
   "source": [
    "auc = Scoring(\n",
    "    name='AUC',\n",
    "    scoring='roc_auc_score',\n",
    "    lower_is_better=False,\n",
    "    pred_extractor=lambda y_proba: to_numpy(y_proba)[:, 1],\n",
    ")"
   ]
  },
  {
   "cell_type": "markdown",
   "metadata": {},
   "source": [
    "Furthermore, we should tell the callback that higher scores are better (to get the correct colors printed below), and how to extract the data from the prediction. The latter must be specified because sometimes we need the class predictions, sometimes the class probabilities, and sometimes, as in this example, only probability of the `1` class. Moreover, we must convert the data from `torch` tensors to `numpy` arrays (using the helper function `to_numpy`)."
   ]
  },
  {
   "cell_type": "code",
   "execution_count": 33,
   "metadata": {
    "collapsed": true
   },
   "outputs": [],
   "source": [
    "net = NeuralNetClassifier(\n",
    "    ClassifierModule,\n",
    "    max_epochs=20,\n",
    "    lr=0.1,\n",
    "    callbacks=[auc],\n",
    ")"
   ]
  },
  {
   "cell_type": "markdown",
   "metadata": {},
   "source": [
    "Finally, we pass the scoring callback to the `callbacks` parameter as a list and then call `fit`. Notice that we get the printed scores and color highlighting for free."
   ]
  },
  {
   "cell_type": "code",
   "execution_count": 34,
   "metadata": {},
   "outputs": [
    {
     "name": "stdout",
     "output_type": "stream",
     "text": [
      "  epoch     AUC    train_loss    valid_acc    valid_loss     dur\n",
      "-------  ------  ------------  -----------  ------------  ------\n",
      "      1  \u001b[36m0.5558\u001b[0m        \u001b[32m0.7150\u001b[0m       \u001b[35m0.4950\u001b[0m        \u001b[31m0.6935\u001b[0m  0.0745\n",
      "      2  \u001b[36m0.6040\u001b[0m        \u001b[32m0.6811\u001b[0m       \u001b[35m0.5100\u001b[0m        \u001b[31m0.6756\u001b[0m  0.0589\n",
      "      3  \u001b[36m0.6170\u001b[0m        \u001b[32m0.6694\u001b[0m       \u001b[35m0.5350\u001b[0m        \u001b[31m0.6661\u001b[0m  0.0555\n",
      "      4  \u001b[36m0.6295\u001b[0m        \u001b[32m0.6505\u001b[0m       \u001b[35m0.5950\u001b[0m        \u001b[31m0.6557\u001b[0m  0.0568\n",
      "      5  \u001b[36m0.6478\u001b[0m        \u001b[32m0.6447\u001b[0m       \u001b[35m0.6250\u001b[0m        \u001b[31m0.6457\u001b[0m  0.0577\n",
      "      6  \u001b[36m0.6578\u001b[0m        \u001b[32m0.6389\u001b[0m       \u001b[35m0.6300\u001b[0m        \u001b[31m0.6359\u001b[0m  0.0550\n",
      "      7  \u001b[36m0.6692\u001b[0m        \u001b[32m0.6282\u001b[0m       \u001b[35m0.6350\u001b[0m        \u001b[31m0.6277\u001b[0m  0.0557\n",
      "      8  \u001b[36m0.6897\u001b[0m        \u001b[32m0.6159\u001b[0m       \u001b[35m0.6600\u001b[0m        \u001b[31m0.6172\u001b[0m  0.0674\n",
      "      9  \u001b[36m0.7035\u001b[0m        \u001b[32m0.6085\u001b[0m       \u001b[35m0.6800\u001b[0m        \u001b[31m0.6096\u001b[0m  0.0640\n",
      "     10  \u001b[36m0.7219\u001b[0m        \u001b[32m0.5993\u001b[0m       0.6800        \u001b[31m0.5996\u001b[0m  0.0658\n",
      "     11  \u001b[36m0.7322\u001b[0m        \u001b[32m0.5950\u001b[0m       \u001b[35m0.6850\u001b[0m        \u001b[31m0.5941\u001b[0m  0.2349\n",
      "     12  \u001b[36m0.7417\u001b[0m        \u001b[32m0.5813\u001b[0m       0.6850        \u001b[31m0.5869\u001b[0m  0.0439\n",
      "     13  \u001b[36m0.7443\u001b[0m        0.5853       \u001b[35m0.6900\u001b[0m        \u001b[31m0.5815\u001b[0m  0.0488\n",
      "     14  \u001b[36m0.7542\u001b[0m        \u001b[32m0.5756\u001b[0m       \u001b[35m0.6950\u001b[0m        \u001b[31m0.5755\u001b[0m  0.0768\n",
      "     15  \u001b[36m0.7626\u001b[0m        \u001b[32m0.5601\u001b[0m       \u001b[35m0.7150\u001b[0m        \u001b[31m0.5692\u001b[0m  0.0564\n",
      "     16  \u001b[36m0.7723\u001b[0m        \u001b[32m0.5455\u001b[0m       0.7150        \u001b[31m0.5604\u001b[0m  0.0873\n",
      "     17  \u001b[36m0.7813\u001b[0m        \u001b[32m0.5390\u001b[0m       0.7100        \u001b[31m0.5517\u001b[0m  0.0543\n",
      "     18  \u001b[36m0.7823\u001b[0m        \u001b[32m0.5310\u001b[0m       \u001b[35m0.7200\u001b[0m        \u001b[31m0.5475\u001b[0m  0.0684\n",
      "     19  \u001b[36m0.7850\u001b[0m        0.5432       \u001b[35m0.7250\u001b[0m        \u001b[31m0.5445\u001b[0m  0.0730\n",
      "     20  0.7847        0.5441       \u001b[35m0.7300\u001b[0m        0.5449  0.0640\n"
     ]
    },
    {
     "data": {
      "text/plain": [
       "<skorch.net.NeuralNetClassifier at 0x7ff01805e5c0>"
      ]
     },
     "execution_count": 34,
     "metadata": {},
     "output_type": "execute_result"
    }
   ],
   "source": [
    "net.fit(X, y)"
   ]
  },
  {
   "cell_type": "markdown",
   "metadata": {},
   "source": [
    "For information on how to write custom callbacks, have a look at the *Advanced_Usage* notebook."
   ]
  },
  {
   "cell_type": "markdown",
   "metadata": {
    "collapsed": true
   },
   "source": [
    "## Usage with sklearn `GridSearchCV`"
   ]
  },
  {
   "cell_type": "markdown",
   "metadata": {},
   "source": [
    "### Special prefixes"
   ]
  },
  {
   "cell_type": "markdown",
   "metadata": {},
   "source": [
    "The `NeuralNet` class allows to directly access parameters of the `pytorch module` by using the `module__` prefix. So e.g. if you defined the `module` to have a `num_units` parameter, you can set it via the `module__num_units` argument. This is exactly the same logic that allows to access estimator parameters in `sklearn Pipeline`s and `FeatureUnion`s."
   ]
  },
  {
   "cell_type": "markdown",
   "metadata": {},
   "source": [
    "This feature is useful in several ways. For one, it allows to set those parameters in the model definition. Furthermore, it allows you to set parameters in an `sklearn GridSearchCV` as shown below."
   ]
  },
  {
   "cell_type": "markdown",
   "metadata": {},
   "source": [
    "In addition to the parameters prefixed by `module__`, you may access a couple of other attributes, such as those of the optimizer by using the `optimizer__` prefix (again, see below). All those special prefixes are stored in the `prefixes_` attribute:"
   ]
  },
  {
   "cell_type": "code",
   "execution_count": 35,
   "metadata": {},
   "outputs": [
    {
     "name": "stdout",
     "output_type": "stream",
     "text": [
      "module, iterator_train, iterator_test, optim, criterion, callbacks\n"
     ]
    }
   ],
   "source": [
    "print(', '.join(net.prefixes_))"
   ]
  },
  {
   "cell_type": "markdown",
   "metadata": {},
   "source": [
    "### Performing a grid search"
   ]
  },
  {
   "cell_type": "markdown",
   "metadata": {},
   "source": [
    "Below we show how to perform a grid search over the learning rate (`lr`), the module's number of hidden units (`module__num_units`), the module's dropout rate (`module__dropout`), and whether the SGD optimizer should use Nesterov momentum or not (`optimizer__nesterov`)."
   ]
  },
  {
   "cell_type": "code",
   "execution_count": 36,
   "metadata": {
    "collapsed": true
   },
   "outputs": [],
   "source": [
    "from sklearn.model_selection import GridSearchCV"
   ]
  },
  {
   "cell_type": "code",
   "execution_count": 37,
   "metadata": {
    "collapsed": true
   },
   "outputs": [],
   "source": [
    "net = NeuralNetClassifier(\n",
    "    ClassifierModule,\n",
    "    max_epochs=20,\n",
    "    lr=0.1,\n",
    "    verbose=0,\n",
    "    optimizer__momentum=0.9,\n",
    ")"
   ]
  },
  {
   "cell_type": "code",
   "execution_count": 38,
   "metadata": {
    "collapsed": true
   },
   "outputs": [],
   "source": [
    "params = {\n",
    "    'lr': [0.05, 0.1],\n",
    "    'module__num_units': [10, 20],\n",
    "    'module__dropout': [0, 0.5],\n",
    "    'optimizer__nesterov': [False, True],\n",
    "}"
   ]
  },
  {
   "cell_type": "code",
   "execution_count": 39,
   "metadata": {
    "collapsed": true
   },
   "outputs": [],
   "source": [
    "gs = GridSearchCV(net, params, refit=False, cv=3, scoring='accuracy', verbose=2)"
   ]
  },
  {
   "cell_type": "code",
   "execution_count": 40,
   "metadata": {},
   "outputs": [
    {
     "name": "stdout",
     "output_type": "stream",
     "text": [
      "Fitting 3 folds for each of 16 candidates, totalling 48 fits\n",
      "[CV] lr=0.05, module__dropout=0, module__num_units=10, optim__nesterov=False \n",
      "[CV]  lr=0.05, module__dropout=0, module__num_units=10, optim__nesterov=False, total=   1.0s\n",
      "[CV] lr=0.05, module__dropout=0, module__num_units=10, optim__nesterov=False \n"
     ]
    },
    {
     "name": "stderr",
     "output_type": "stream",
     "text": [
      "[Parallel(n_jobs=1)]: Done   1 out of   1 | elapsed:    1.1s remaining:    0.0s\n"
     ]
    },
    {
     "name": "stdout",
     "output_type": "stream",
     "text": [
      "[CV]  lr=0.05, module__dropout=0, module__num_units=10, optim__nesterov=False, total=   1.0s\n",
      "[CV] lr=0.05, module__dropout=0, module__num_units=10, optim__nesterov=False \n",
      "[CV]  lr=0.05, module__dropout=0, module__num_units=10, optim__nesterov=False, total=   1.2s\n",
      "[CV] lr=0.05, module__dropout=0, module__num_units=10, optim__nesterov=True \n",
      "[CV]  lr=0.05, module__dropout=0, module__num_units=10, optim__nesterov=True, total=   1.7s\n",
      "[CV] lr=0.05, module__dropout=0, module__num_units=10, optim__nesterov=True \n",
      "[CV]  lr=0.05, module__dropout=0, module__num_units=10, optim__nesterov=True, total=   2.2s\n",
      "[CV] lr=0.05, module__dropout=0, module__num_units=10, optim__nesterov=True \n",
      "[CV]  lr=0.05, module__dropout=0, module__num_units=10, optim__nesterov=True, total=   1.1s\n",
      "[CV] lr=0.05, module__dropout=0, module__num_units=20, optim__nesterov=False \n",
      "[CV]  lr=0.05, module__dropout=0, module__num_units=20, optim__nesterov=False, total=   0.8s\n",
      "[CV] lr=0.05, module__dropout=0, module__num_units=20, optim__nesterov=False \n",
      "[CV]  lr=0.05, module__dropout=0, module__num_units=20, optim__nesterov=False, total=   1.1s\n",
      "[CV] lr=0.05, module__dropout=0, module__num_units=20, optim__nesterov=False \n",
      "[CV]  lr=0.05, module__dropout=0, module__num_units=20, optim__nesterov=False, total=   0.9s\n",
      "[CV] lr=0.05, module__dropout=0, module__num_units=20, optim__nesterov=True \n",
      "[CV]  lr=0.05, module__dropout=0, module__num_units=20, optim__nesterov=True, total=   0.7s\n",
      "[CV] lr=0.05, module__dropout=0, module__num_units=20, optim__nesterov=True \n",
      "[CV]  lr=0.05, module__dropout=0, module__num_units=20, optim__nesterov=True, total=   0.8s\n",
      "[CV] lr=0.05, module__dropout=0, module__num_units=20, optim__nesterov=True \n",
      "[CV]  lr=0.05, module__dropout=0, module__num_units=20, optim__nesterov=True, total=   0.8s\n",
      "[CV] lr=0.05, module__dropout=0.5, module__num_units=10, optim__nesterov=False \n",
      "[CV]  lr=0.05, module__dropout=0.5, module__num_units=10, optim__nesterov=False, total=   0.8s\n",
      "[CV] lr=0.05, module__dropout=0.5, module__num_units=10, optim__nesterov=False \n",
      "[CV]  lr=0.05, module__dropout=0.5, module__num_units=10, optim__nesterov=False, total=   0.8s\n",
      "[CV] lr=0.05, module__dropout=0.5, module__num_units=10, optim__nesterov=False \n",
      "[CV]  lr=0.05, module__dropout=0.5, module__num_units=10, optim__nesterov=False, total=   0.8s\n",
      "[CV] lr=0.05, module__dropout=0.5, module__num_units=10, optim__nesterov=True \n",
      "[CV]  lr=0.05, module__dropout=0.5, module__num_units=10, optim__nesterov=True, total=   0.8s\n",
      "[CV] lr=0.05, module__dropout=0.5, module__num_units=10, optim__nesterov=True \n",
      "[CV]  lr=0.05, module__dropout=0.5, module__num_units=10, optim__nesterov=True, total=   0.8s\n",
      "[CV] lr=0.05, module__dropout=0.5, module__num_units=10, optim__nesterov=True \n",
      "[CV]  lr=0.05, module__dropout=0.5, module__num_units=10, optim__nesterov=True, total=   0.8s\n",
      "[CV] lr=0.05, module__dropout=0.5, module__num_units=20, optim__nesterov=False \n",
      "[CV]  lr=0.05, module__dropout=0.5, module__num_units=20, optim__nesterov=False, total=   1.0s\n",
      "[CV] lr=0.05, module__dropout=0.5, module__num_units=20, optim__nesterov=False \n",
      "[CV]  lr=0.05, module__dropout=0.5, module__num_units=20, optim__nesterov=False, total=   0.9s\n",
      "[CV] lr=0.05, module__dropout=0.5, module__num_units=20, optim__nesterov=False \n",
      "[CV]  lr=0.05, module__dropout=0.5, module__num_units=20, optim__nesterov=False, total=   0.9s\n",
      "[CV] lr=0.05, module__dropout=0.5, module__num_units=20, optim__nesterov=True \n",
      "[CV]  lr=0.05, module__dropout=0.5, module__num_units=20, optim__nesterov=True, total=   0.9s\n",
      "[CV] lr=0.05, module__dropout=0.5, module__num_units=20, optim__nesterov=True \n",
      "[CV]  lr=0.05, module__dropout=0.5, module__num_units=20, optim__nesterov=True, total=   1.0s\n",
      "[CV] lr=0.05, module__dropout=0.5, module__num_units=20, optim__nesterov=True \n",
      "[CV]  lr=0.05, module__dropout=0.5, module__num_units=20, optim__nesterov=True, total=   0.9s\n",
      "[CV] lr=0.1, module__dropout=0, module__num_units=10, optim__nesterov=False \n",
      "[CV]  lr=0.1, module__dropout=0, module__num_units=10, optim__nesterov=False, total=   0.8s\n",
      "[CV] lr=0.1, module__dropout=0, module__num_units=10, optim__nesterov=False \n",
      "[CV]  lr=0.1, module__dropout=0, module__num_units=10, optim__nesterov=False, total=   0.8s\n",
      "[CV] lr=0.1, module__dropout=0, module__num_units=10, optim__nesterov=False \n",
      "[CV]  lr=0.1, module__dropout=0, module__num_units=10, optim__nesterov=False, total=   0.8s\n",
      "[CV] lr=0.1, module__dropout=0, module__num_units=10, optim__nesterov=True \n",
      "[CV]  lr=0.1, module__dropout=0, module__num_units=10, optim__nesterov=True, total=   0.9s\n",
      "[CV] lr=0.1, module__dropout=0, module__num_units=10, optim__nesterov=True \n",
      "[CV]  lr=0.1, module__dropout=0, module__num_units=10, optim__nesterov=True, total=   1.0s\n",
      "[CV] lr=0.1, module__dropout=0, module__num_units=10, optim__nesterov=True \n",
      "[CV]  lr=0.1, module__dropout=0, module__num_units=10, optim__nesterov=True, total=   0.9s\n",
      "[CV] lr=0.1, module__dropout=0, module__num_units=20, optim__nesterov=False \n",
      "[CV]  lr=0.1, module__dropout=0, module__num_units=20, optim__nesterov=False, total=   0.8s\n",
      "[CV] lr=0.1, module__dropout=0, module__num_units=20, optim__nesterov=False \n",
      "[CV]  lr=0.1, module__dropout=0, module__num_units=20, optim__nesterov=False, total=   0.7s\n",
      "[CV] lr=0.1, module__dropout=0, module__num_units=20, optim__nesterov=False \n",
      "[CV]  lr=0.1, module__dropout=0, module__num_units=20, optim__nesterov=False, total=   0.8s\n",
      "[CV] lr=0.1, module__dropout=0, module__num_units=20, optim__nesterov=True \n",
      "[CV]  lr=0.1, module__dropout=0, module__num_units=20, optim__nesterov=True, total=   1.0s\n",
      "[CV] lr=0.1, module__dropout=0, module__num_units=20, optim__nesterov=True \n",
      "[CV]  lr=0.1, module__dropout=0, module__num_units=20, optim__nesterov=True, total=   0.8s\n",
      "[CV] lr=0.1, module__dropout=0, module__num_units=20, optim__nesterov=True \n",
      "[CV]  lr=0.1, module__dropout=0, module__num_units=20, optim__nesterov=True, total=   0.9s\n",
      "[CV] lr=0.1, module__dropout=0.5, module__num_units=10, optim__nesterov=False \n",
      "[CV]  lr=0.1, module__dropout=0.5, module__num_units=10, optim__nesterov=False, total=   0.9s\n",
      "[CV] lr=0.1, module__dropout=0.5, module__num_units=10, optim__nesterov=False \n",
      "[CV]  lr=0.1, module__dropout=0.5, module__num_units=10, optim__nesterov=False, total=   0.8s\n",
      "[CV] lr=0.1, module__dropout=0.5, module__num_units=10, optim__nesterov=False \n",
      "[CV]  lr=0.1, module__dropout=0.5, module__num_units=10, optim__nesterov=False, total=   0.9s\n",
      "[CV] lr=0.1, module__dropout=0.5, module__num_units=10, optim__nesterov=True \n",
      "[CV]  lr=0.1, module__dropout=0.5, module__num_units=10, optim__nesterov=True, total=   0.9s\n",
      "[CV] lr=0.1, module__dropout=0.5, module__num_units=10, optim__nesterov=True \n",
      "[CV]  lr=0.1, module__dropout=0.5, module__num_units=10, optim__nesterov=True, total=   0.9s\n",
      "[CV] lr=0.1, module__dropout=0.5, module__num_units=10, optim__nesterov=True \n",
      "[CV]  lr=0.1, module__dropout=0.5, module__num_units=10, optim__nesterov=True, total=   0.8s\n",
      "[CV] lr=0.1, module__dropout=0.5, module__num_units=20, optim__nesterov=False \n",
      "[CV]  lr=0.1, module__dropout=0.5, module__num_units=20, optim__nesterov=False, total=   0.9s\n",
      "[CV] lr=0.1, module__dropout=0.5, module__num_units=20, optim__nesterov=False \n",
      "[CV]  lr=0.1, module__dropout=0.5, module__num_units=20, optim__nesterov=False, total=   0.9s\n",
      "[CV] lr=0.1, module__dropout=0.5, module__num_units=20, optim__nesterov=False \n",
      "[CV]  lr=0.1, module__dropout=0.5, module__num_units=20, optim__nesterov=False, total=   0.8s\n",
      "[CV] lr=0.1, module__dropout=0.5, module__num_units=20, optim__nesterov=True \n",
      "[CV]  lr=0.1, module__dropout=0.5, module__num_units=20, optim__nesterov=True, total=   0.8s\n",
      "[CV] lr=0.1, module__dropout=0.5, module__num_units=20, optim__nesterov=True \n",
      "[CV]  lr=0.1, module__dropout=0.5, module__num_units=20, optim__nesterov=True, total=   0.9s\n",
      "[CV] lr=0.1, module__dropout=0.5, module__num_units=20, optim__nesterov=True \n",
      "[CV]  lr=0.1, module__dropout=0.5, module__num_units=20, optim__nesterov=True, total=   0.9s\n"
     ]
    },
    {
     "name": "stderr",
     "output_type": "stream",
     "text": [
      "[Parallel(n_jobs=1)]: Done  48 out of  48 | elapsed:   45.6s finished\n"
     ]
    },
    {
     "data": {
      "text/plain": [
       "GridSearchCV(cv=3, error_score='raise',\n",
       "       estimator=<skorch.net.NeuralNetClassifier object at 0x7ff018061208>,\n",
       "       fit_params=None, iid=True, n_jobs=1,\n",
       "       param_grid={'lr': [0.05, 0.1], 'module__num_units': [10, 20], 'module__dropout': [0, 0.5], 'optim__nesterov': [False, True]},\n",
       "       pre_dispatch='2*n_jobs', refit=False, return_train_score=True,\n",
       "       scoring='accuracy', verbose=2)"
      ]
     },
     "execution_count": 40,
     "metadata": {},
     "output_type": "execute_result"
    }
   ],
   "source": [
    "gs.fit(X, y)"
   ]
  },
  {
   "cell_type": "code",
   "execution_count": 41,
   "metadata": {
    "scrolled": true
   },
   "outputs": [
    {
     "name": "stdout",
     "output_type": "stream",
     "text": [
      "0.851 {'lr': 0.1, 'module__dropout': 0, 'module__num_units': 20, 'optim__nesterov': True}\n"
     ]
    }
   ],
   "source": [
    "print(gs.best_score_, gs.best_params_)"
   ]
  },
  {
   "cell_type": "markdown",
   "metadata": {
    "collapsed": true
   },
   "source": [
    "Of course, we could further nest the `NeuralNetClassifier` within an `sklearn Pipeline`, in which case we just prefix the parameter by the name of the net (e.g. `net__module__num_units`)."
   ]
  }
 ],
 "metadata": {
  "kernelspec": {
   "display_name": "Python 3",
   "language": "python",
   "name": "python3"
  },
  "language_info": {
   "codemirror_mode": {
    "name": "ipython",
    "version": 3
   },
   "file_extension": ".py",
   "mimetype": "text/x-python",
   "name": "python",
   "nbconvert_exporter": "python",
   "pygments_lexer": "ipython3",
   "version": "3.6.2"
  }
 },
 "nbformat": 4,
 "nbformat_minor": 2
}
