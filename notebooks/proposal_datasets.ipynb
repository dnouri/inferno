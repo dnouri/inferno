{
 "cells": [
  {
   "cell_type": "markdown",
   "metadata": {},
   "source": [
    "# Proposal: Fitting with dataset(s)"
   ]
  },
  {
   "cell_type": "markdown",
   "metadata": {},
   "source": [
    "## Preparation"
   ]
  },
  {
   "cell_type": "code",
   "execution_count": 1,
   "metadata": {
    "collapsed": true
   },
   "outputs": [],
   "source": [
    "import torch\n",
    "from torch import nn\n",
    "import torch.nn.functional as F"
   ]
  },
  {
   "cell_type": "code",
   "execution_count": 2,
   "metadata": {
    "collapsed": true
   },
   "outputs": [],
   "source": [
    "torch.manual_seed(0);"
   ]
  },
  {
   "cell_type": "code",
   "execution_count": 3,
   "metadata": {
    "collapsed": true
   },
   "outputs": [],
   "source": [
    "import numpy as np\n",
    "from sklearn.datasets import make_classification"
   ]
  },
  {
   "cell_type": "code",
   "execution_count": 4,
   "metadata": {
    "collapsed": true
   },
   "outputs": [],
   "source": [
    "X, y = make_classification(1000, 20, n_informative=10, random_state=0)\n",
    "X = X.astype(np.float32)"
   ]
  },
  {
   "cell_type": "code",
   "execution_count": 5,
   "metadata": {
    "scrolled": true
   },
   "outputs": [
    {
     "data": {
      "text/plain": [
       "((1000, 20), (1000,), 0.5)"
      ]
     },
     "execution_count": 5,
     "metadata": {},
     "output_type": "execute_result"
    }
   ],
   "source": [
    "X.shape, y.shape, y.mean()"
   ]
  },
  {
   "cell_type": "code",
   "execution_count": 6,
   "metadata": {},
   "outputs": [],
   "source": [
    "class ClassifierModule(nn.Module):\n",
    "    def __init__(\n",
    "            self,\n",
    "            num_units=10,\n",
    "            nonlin=F.relu,\n",
    "            dropout=0.5,\n",
    "    ):\n",
    "        super(ClassifierModule, self).__init__()\n",
    "        self.num_units = num_units\n",
    "        self.nonlin = nonlin\n",
    "        self.dropout = dropout\n",
    "\n",
    "        self.dense0 = nn.Linear(20, num_units)\n",
    "        self.nonlin = nonlin\n",
    "        self.dropout = nn.Dropout(dropout)\n",
    "        self.dense1 = nn.Linear(num_units, 10)\n",
    "        self.output = nn.Linear(10, 2)\n",
    "\n",
    "    def forward(self, X, **kwargs):\n",
    "        X = self.nonlin(self.dense0(X))\n",
    "        X = self.dropout(X)\n",
    "        X = F.relu(self.dense1(X))\n",
    "        X = F.softmax(self.output(X), dim=-1)\n",
    "        return X"
   ]
  },
  {
   "cell_type": "markdown",
   "metadata": {},
   "source": [
    "## The olde way"
   ]
  },
  {
   "cell_type": "code",
   "execution_count": 7,
   "metadata": {
    "collapsed": true
   },
   "outputs": [],
   "source": [
    "from skorch.net import NeuralNetClassifier"
   ]
  },
  {
   "cell_type": "code",
   "execution_count": 8,
   "metadata": {
    "collapsed": true
   },
   "outputs": [],
   "source": [
    "net = NeuralNetClassifier(\n",
    "    ClassifierModule,\n",
    "    max_epochs=20,\n",
    "    lr=0.1,\n",
    "    # use_cuda=True,  # uncomment this to train with CUDA\n",
    ")"
   ]
  },
  {
   "cell_type": "code",
   "execution_count": 9,
   "metadata": {
    "scrolled": false
   },
   "outputs": [
    {
     "name": "stdout",
     "output_type": "stream",
     "text": [
      "  epoch    train_loss    valid_acc    valid_loss     dur\n",
      "-------  ------------  -----------  ------------  ------\n",
      "      1        \u001b[36m0.6868\u001b[0m       \u001b[32m0.6000\u001b[0m        \u001b[35m0.6740\u001b[0m  1.1114\n",
      "      2        \u001b[36m0.6706\u001b[0m       \u001b[32m0.6400\u001b[0m        \u001b[35m0.6617\u001b[0m  0.1148\n",
      "      3        \u001b[36m0.6637\u001b[0m       \u001b[32m0.6650\u001b[0m        \u001b[35m0.6504\u001b[0m  0.1116\n",
      "      4        \u001b[36m0.6548\u001b[0m       \u001b[32m0.7000\u001b[0m        \u001b[35m0.6418\u001b[0m  0.1306\n",
      "      5        \u001b[36m0.6340\u001b[0m       \u001b[32m0.7100\u001b[0m        \u001b[35m0.6272\u001b[0m  0.1369\n",
      "      6        \u001b[36m0.6219\u001b[0m       \u001b[32m0.7150\u001b[0m        \u001b[35m0.6124\u001b[0m  0.1201\n",
      "      7        \u001b[36m0.6058\u001b[0m       0.7100        \u001b[35m0.5980\u001b[0m  0.1252\n",
      "      8        \u001b[36m0.5964\u001b[0m       \u001b[32m0.7200\u001b[0m        \u001b[35m0.5875\u001b[0m  0.1103\n",
      "      9        \u001b[36m0.5901\u001b[0m       0.7100        \u001b[35m0.5760\u001b[0m  0.1254\n",
      "     10        \u001b[36m0.5716\u001b[0m       \u001b[32m0.7250\u001b[0m        \u001b[35m0.5651\u001b[0m  0.1206\n",
      "     11        \u001b[36m0.5633\u001b[0m       0.7250        \u001b[35m0.5580\u001b[0m  0.1261\n",
      "     12        0.5652       \u001b[32m0.7300\u001b[0m        \u001b[35m0.5529\u001b[0m  0.1006\n",
      "     13        \u001b[36m0.5462\u001b[0m       \u001b[32m0.7350\u001b[0m        \u001b[35m0.5426\u001b[0m  0.1419\n",
      "     14        \u001b[36m0.5407\u001b[0m       0.7300        \u001b[35m0.5407\u001b[0m  0.1165\n",
      "     15        \u001b[36m0.5360\u001b[0m       0.7300        \u001b[35m0.5373\u001b[0m  0.1350\n",
      "     16        0.5517       \u001b[32m0.7400\u001b[0m        \u001b[35m0.5328\u001b[0m  0.1081\n",
      "     17        \u001b[36m0.5351\u001b[0m       \u001b[32m0.7450\u001b[0m        \u001b[35m0.5277\u001b[0m  0.1344\n",
      "     18        \u001b[36m0.5280\u001b[0m       0.7400        \u001b[35m0.5260\u001b[0m  0.1203\n",
      "     19        \u001b[36m0.5148\u001b[0m       0.7450        0.5264  0.1210\n",
      "     20        0.5309       0.7400        \u001b[35m0.5210\u001b[0m  0.1005\n"
     ]
    },
    {
     "data": {
      "text/plain": [
       "<class 'skorch.net.NeuralNetClassifier'>[initialized](\n",
       "  module_=ClassifierModule(\n",
       "    (dense0): Linear(in_features=20, out_features=10, bias=True)\n",
       "    (dropout): Dropout(p=0.5)\n",
       "    (dense1): Linear(in_features=10, out_features=10, bias=True)\n",
       "    (output): Linear(in_features=10, out_features=2, bias=True)\n",
       "  ),\n",
       ")"
      ]
     },
     "execution_count": 9,
     "metadata": {},
     "output_type": "execute_result"
    }
   ],
   "source": [
    "net.fit(X, y)"
   ]
  },
  {
   "cell_type": "markdown",
   "metadata": {},
   "source": [
    "## with dataset, without validation"
   ]
  },
  {
   "cell_type": "code",
   "execution_count": 10,
   "metadata": {
    "collapsed": true
   },
   "outputs": [],
   "source": [
    "import torch.utils.data"
   ]
  },
  {
   "cell_type": "code",
   "execution_count": 11,
   "metadata": {
    "collapsed": true
   },
   "outputs": [],
   "source": [
    "class MyDataset(torch.utils.data.Dataset):\n",
    "    def __init__(self, X, y):\n",
    "        self.X = X\n",
    "        self.y = y\n",
    "        \n",
    "        assert len(X) == len(y)\n",
    "        \n",
    "    def __len__(self):\n",
    "        return len(self.X)\n",
    "        \n",
    "    def __getitem__(self, i):\n",
    "        return self.X[i], self.y[i]"
   ]
  },
  {
   "cell_type": "code",
   "execution_count": 12,
   "metadata": {
    "collapsed": true
   },
   "outputs": [],
   "source": [
    "ds = MyDataset(X, y)"
   ]
  },
  {
   "cell_type": "code",
   "execution_count": 13,
   "metadata": {},
   "outputs": [
    {
     "name": "stdout",
     "output_type": "stream",
     "text": [
      "Re-initializing module!\n",
      "  epoch    train_loss     dur\n",
      "-------  ------------  ------\n",
      "      1        \u001b[36m0.7114\u001b[0m  0.0945\n",
      "      2        \u001b[36m0.6894\u001b[0m  0.1207\n",
      "      3        \u001b[36m0.6826\u001b[0m  0.1092\n",
      "      4        \u001b[36m0.6770\u001b[0m  0.1128\n",
      "      5        \u001b[36m0.6586\u001b[0m  0.0748\n",
      "      6        \u001b[36m0.6494\u001b[0m  0.0955\n",
      "      7        \u001b[36m0.6265\u001b[0m  0.0894\n",
      "      8        0.6280  0.1124\n",
      "      9        \u001b[36m0.6195\u001b[0m  0.0907\n",
      "     10        \u001b[36m0.5944\u001b[0m  0.1081\n",
      "     11        \u001b[36m0.5889\u001b[0m  0.1124\n",
      "     12        \u001b[36m0.5829\u001b[0m  0.1166\n",
      "     13        \u001b[36m0.5605\u001b[0m  0.0978\n",
      "     14        0.5620  0.0942\n",
      "     15        0.5678  0.1012\n",
      "     16        \u001b[36m0.5468\u001b[0m  0.1069\n",
      "     17        0.5525  0.1229\n",
      "     18        \u001b[36m0.5421\u001b[0m  0.0604\n",
      "     19        0.5472  0.0981\n",
      "     20        \u001b[36m0.5345\u001b[0m  0.0832\n"
     ]
    },
    {
     "data": {
      "text/plain": [
       "<class 'skorch.net.NeuralNetClassifier'>[initialized](\n",
       "  module_=ClassifierModule(\n",
       "    (dense0): Linear(in_features=20, out_features=10, bias=True)\n",
       "    (dropout): Dropout(p=0.5)\n",
       "    (dense1): Linear(in_features=10, out_features=10, bias=True)\n",
       "    (output): Linear(in_features=10, out_features=2, bias=True)\n",
       "  ),\n",
       ")"
      ]
     },
     "execution_count": 13,
     "metadata": {},
     "output_type": "execute_result"
    }
   ],
   "source": [
    "net.fit(ds, None)"
   ]
  },
  {
   "cell_type": "markdown",
   "metadata": {},
   "source": [
    "## with dataset and validation"
   ]
  },
  {
   "cell_type": "code",
   "execution_count": 14,
   "metadata": {
    "collapsed": true
   },
   "outputs": [],
   "source": [
    "from sklearn.model_selection import train_test_split"
   ]
  },
  {
   "cell_type": "code",
   "execution_count": 15,
   "metadata": {
    "collapsed": true
   },
   "outputs": [],
   "source": [
    "X_train, X_valid, y_train, y_valid = train_test_split(X, y)"
   ]
  },
  {
   "cell_type": "code",
   "execution_count": 16,
   "metadata": {
    "collapsed": true
   },
   "outputs": [],
   "source": [
    "ds_train, ds_valid = MyDataset(X_train, y_train), MyDataset(X_valid, y_valid)"
   ]
  },
  {
   "cell_type": "markdown",
   "metadata": {},
   "source": [
    "to get validation, pass X as a tuple of datasets"
   ]
  },
  {
   "cell_type": "markdown",
   "metadata": {},
   "source": [
    "### this does not work"
   ]
  },
  {
   "cell_type": "code",
   "execution_count": 17,
   "metadata": {},
   "outputs": [
    {
     "name": "stdout",
     "output_type": "stream",
     "text": [
      "Re-initializing module!\n",
      "__call__() missing 1 required positional argument: 'y_true'\n"
     ]
    }
   ],
   "source": [
    "try:\n",
    "    net.fit((ds_train, ds_valid), (None, None))\n",
    "except Exception as e:\n",
    "    print(e)"
   ]
  },
  {
   "cell_type": "markdown",
   "metadata": {},
   "source": [
    "### this works"
   ]
  },
  {
   "cell_type": "markdown",
   "metadata": {},
   "source": [
    "but once we re-use data from batches for scoring, the way above should also work!"
   ]
  },
  {
   "cell_type": "code",
   "execution_count": 18,
   "metadata": {},
   "outputs": [
    {
     "name": "stdout",
     "output_type": "stream",
     "text": [
      "Re-initializing module!\n",
      "  epoch    train_loss    valid_acc    valid_loss     dur\n",
      "-------  ------------  -----------  ------------  ------\n",
      "      1        \u001b[36m0.7179\u001b[0m       \u001b[32m0.5280\u001b[0m        \u001b[35m0.6938\u001b[0m  0.0992\n",
      "      2        \u001b[36m0.6971\u001b[0m       \u001b[32m0.5440\u001b[0m        \u001b[35m0.6893\u001b[0m  0.0825\n",
      "      3        \u001b[36m0.6872\u001b[0m       \u001b[32m0.5720\u001b[0m        \u001b[35m0.6842\u001b[0m  0.0832\n",
      "      4        \u001b[36m0.6827\u001b[0m       \u001b[32m0.5920\u001b[0m        \u001b[35m0.6787\u001b[0m  0.0873\n",
      "      5        \u001b[36m0.6746\u001b[0m       \u001b[32m0.6040\u001b[0m        \u001b[35m0.6726\u001b[0m  0.0860\n",
      "      6        \u001b[36m0.6732\u001b[0m       \u001b[32m0.6120\u001b[0m        \u001b[35m0.6679\u001b[0m  0.0964\n",
      "      7        \u001b[36m0.6707\u001b[0m       \u001b[32m0.6360\u001b[0m        \u001b[35m0.6624\u001b[0m  0.0947\n",
      "      8        \u001b[36m0.6644\u001b[0m       \u001b[32m0.6480\u001b[0m        \u001b[35m0.6570\u001b[0m  0.0710\n",
      "      9        \u001b[36m0.6637\u001b[0m       \u001b[32m0.6560\u001b[0m        \u001b[35m0.6508\u001b[0m  0.0862\n",
      "     10        \u001b[36m0.6508\u001b[0m       0.6480        \u001b[35m0.6435\u001b[0m  0.0841\n",
      "     11        \u001b[36m0.6503\u001b[0m       0.6560        \u001b[35m0.6366\u001b[0m  0.0831\n",
      "     12        \u001b[36m0.6438\u001b[0m       \u001b[32m0.6800\u001b[0m        \u001b[35m0.6302\u001b[0m  0.0652\n",
      "     13        \u001b[36m0.6432\u001b[0m       0.6680        \u001b[35m0.6238\u001b[0m  0.0840\n",
      "     14        \u001b[36m0.6282\u001b[0m       \u001b[32m0.6960\u001b[0m        \u001b[35m0.6134\u001b[0m  0.0707\n",
      "     15        \u001b[36m0.6158\u001b[0m       \u001b[32m0.7040\u001b[0m        \u001b[35m0.6024\u001b[0m  0.0800\n",
      "     16        \u001b[36m0.6139\u001b[0m       \u001b[32m0.7160\u001b[0m        \u001b[35m0.5931\u001b[0m  0.0907\n",
      "     17        \u001b[36m0.6092\u001b[0m       \u001b[32m0.7280\u001b[0m        \u001b[35m0.5830\u001b[0m  0.0748\n",
      "     18        \u001b[36m0.5934\u001b[0m       \u001b[32m0.7360\u001b[0m        \u001b[35m0.5713\u001b[0m  0.0759\n",
      "     19        \u001b[36m0.5844\u001b[0m       \u001b[32m0.7480\u001b[0m        \u001b[35m0.5618\u001b[0m  0.0879\n",
      "     20        0.5948       \u001b[32m0.7560\u001b[0m        \u001b[35m0.5518\u001b[0m  0.0959\n"
     ]
    },
    {
     "data": {
      "text/plain": [
       "<class 'skorch.net.NeuralNetClassifier'>[initialized](\n",
       "  module_=ClassifierModule(\n",
       "    (dense0): Linear(in_features=20, out_features=10, bias=True)\n",
       "    (dropout): Dropout(p=0.5)\n",
       "    (dense1): Linear(in_features=10, out_features=10, bias=True)\n",
       "    (output): Linear(in_features=10, out_features=2, bias=True)\n",
       "  ),\n",
       ")"
      ]
     },
     "execution_count": 18,
     "metadata": {},
     "output_type": "execute_result"
    }
   ],
   "source": [
    "net.fit((ds_train, ds_valid), (y_train, y_valid))"
   ]
  },
  {
   "cell_type": "markdown",
   "metadata": {},
   "source": [
    "## Predictions"
   ]
  },
  {
   "cell_type": "code",
   "execution_count": 19,
   "metadata": {},
   "outputs": [
    {
     "data": {
      "text/plain": [
       "(1000,)"
      ]
     },
     "execution_count": 19,
     "metadata": {},
     "output_type": "execute_result"
    }
   ],
   "source": [
    "_ = net.predict(ds)\n",
    "_.shape"
   ]
  },
  {
   "cell_type": "code",
   "execution_count": 20,
   "metadata": {},
   "outputs": [
    {
     "data": {
      "text/plain": [
       "(1000, 2)"
      ]
     },
     "execution_count": 20,
     "metadata": {},
     "output_type": "execute_result"
    }
   ],
   "source": [
    "_ = net.predict_proba(ds)\n",
    "_.shape"
   ]
  },
  {
   "cell_type": "markdown",
   "metadata": {},
   "source": [
    "## with custom callback"
   ]
  },
  {
   "cell_type": "code",
   "execution_count": 21,
   "metadata": {
    "collapsed": true
   },
   "outputs": [],
   "source": [
    "from skorch.callbacks import EpochScoring"
   ]
  },
  {
   "cell_type": "code",
   "execution_count": 22,
   "metadata": {
    "collapsed": true
   },
   "outputs": [],
   "source": [
    "auc = EpochScoring(scoring='roc_auc', lower_is_better=False)"
   ]
  },
  {
   "cell_type": "code",
   "execution_count": 23,
   "metadata": {
    "collapsed": true
   },
   "outputs": [],
   "source": [
    "net = NeuralNetClassifier(\n",
    "    ClassifierModule,\n",
    "    max_epochs=20,\n",
    "    lr=0.1,\n",
    "    callbacks=[auc],\n",
    ")"
   ]
  },
  {
   "cell_type": "code",
   "execution_count": 24,
   "metadata": {},
   "outputs": [
    {
     "name": "stdout",
     "output_type": "stream",
     "text": [
      "  epoch    roc_auc    train_loss    valid_acc    valid_loss     dur\n",
      "-------  ---------  ------------  -----------  ------------  ------\n",
      "      1     \u001b[36m0.5958\u001b[0m        \u001b[32m0.6962\u001b[0m       \u001b[35m0.5560\u001b[0m        \u001b[31m0.6836\u001b[0m  0.0675\n",
      "      2     \u001b[36m0.6372\u001b[0m        \u001b[32m0.6894\u001b[0m       0.5560        \u001b[31m0.6777\u001b[0m  0.0726\n",
      "      3     \u001b[36m0.6646\u001b[0m        \u001b[32m0.6753\u001b[0m       \u001b[35m0.5960\u001b[0m        \u001b[31m0.6698\u001b[0m  0.0815\n",
      "      4     \u001b[36m0.6813\u001b[0m        \u001b[32m0.6638\u001b[0m       \u001b[35m0.6080\u001b[0m        \u001b[31m0.6619\u001b[0m  0.0811\n",
      "      5     \u001b[36m0.6987\u001b[0m        \u001b[32m0.6568\u001b[0m       \u001b[35m0.6360\u001b[0m        \u001b[31m0.6549\u001b[0m  0.0960\n",
      "      6     \u001b[36m0.7130\u001b[0m        \u001b[32m0.6533\u001b[0m       \u001b[35m0.6440\u001b[0m        \u001b[31m0.6460\u001b[0m  0.0800\n",
      "      7     \u001b[36m0.7317\u001b[0m        \u001b[32m0.6522\u001b[0m       \u001b[35m0.6720\u001b[0m        \u001b[31m0.6365\u001b[0m  0.0745\n",
      "      8     \u001b[36m0.7443\u001b[0m        \u001b[32m0.6419\u001b[0m       \u001b[35m0.6840\u001b[0m        \u001b[31m0.6281\u001b[0m  0.0833\n",
      "      9     \u001b[36m0.7622\u001b[0m        \u001b[32m0.6287\u001b[0m       \u001b[35m0.6920\u001b[0m        \u001b[31m0.6167\u001b[0m  0.0897\n",
      "     10     \u001b[36m0.7732\u001b[0m        \u001b[32m0.6246\u001b[0m       \u001b[35m0.7000\u001b[0m        \u001b[31m0.6068\u001b[0m  0.1225\n",
      "     11     \u001b[36m0.7839\u001b[0m        \u001b[32m0.6173\u001b[0m       \u001b[35m0.7200\u001b[0m        \u001b[31m0.5972\u001b[0m  0.0963\n",
      "     12     \u001b[36m0.7861\u001b[0m        \u001b[32m0.5985\u001b[0m       \u001b[35m0.7240\u001b[0m        \u001b[31m0.5882\u001b[0m  0.0853\n",
      "     13     \u001b[36m0.7979\u001b[0m        \u001b[32m0.5972\u001b[0m       \u001b[35m0.7360\u001b[0m        \u001b[31m0.5770\u001b[0m  0.0818\n",
      "     14     \u001b[36m0.8035\u001b[0m        \u001b[32m0.5939\u001b[0m       \u001b[35m0.7480\u001b[0m        \u001b[31m0.5688\u001b[0m  0.0821\n",
      "     15     \u001b[36m0.8088\u001b[0m        \u001b[32m0.5750\u001b[0m       \u001b[35m0.7520\u001b[0m        \u001b[31m0.5619\u001b[0m  0.1024\n",
      "     16     \u001b[36m0.8132\u001b[0m        0.5911       0.7480        \u001b[31m0.5558\u001b[0m  0.0669\n",
      "     17     \u001b[36m0.8183\u001b[0m        0.5883       \u001b[35m0.7560\u001b[0m        \u001b[31m0.5496\u001b[0m  0.0954\n",
      "     18     \u001b[36m0.8242\u001b[0m        \u001b[32m0.5710\u001b[0m       0.7560        \u001b[31m0.5432\u001b[0m  0.0770\n",
      "     19     \u001b[36m0.8300\u001b[0m        \u001b[32m0.5638\u001b[0m       \u001b[35m0.7600\u001b[0m        \u001b[31m0.5360\u001b[0m  0.1092\n",
      "     20     \u001b[36m0.8319\u001b[0m        \u001b[32m0.5409\u001b[0m       \u001b[35m0.7640\u001b[0m        \u001b[31m0.5297\u001b[0m  0.0735\n"
     ]
    },
    {
     "data": {
      "text/plain": [
       "<class 'skorch.net.NeuralNetClassifier'>[initialized](\n",
       "  module_=ClassifierModule(\n",
       "    (dense0): Linear(in_features=20, out_features=10, bias=True)\n",
       "    (dropout): Dropout(p=0.5)\n",
       "    (dense1): Linear(in_features=10, out_features=10, bias=True)\n",
       "    (output): Linear(in_features=10, out_features=2, bias=True)\n",
       "  ),\n",
       ")"
      ]
     },
     "execution_count": 24,
     "metadata": {},
     "output_type": "execute_result"
    }
   ],
   "source": [
    "net.fit((ds_train, ds_valid), (y_train, y_valid))"
   ]
  }
 ],
 "metadata": {
  "kernelspec": {
   "display_name": "Python 3",
   "language": "python",
   "name": "python3"
  },
  "language_info": {
   "codemirror_mode": {
    "name": "ipython",
    "version": 3
   },
   "file_extension": ".py",
   "mimetype": "text/x-python",
   "name": "python",
   "nbconvert_exporter": "python",
   "pygments_lexer": "ipython3",
   "version": "3.6.2"
  }
 },
 "nbformat": 4,
 "nbformat_minor": 2
}
