{
 "cells": [
  {
   "cell_type": "markdown",
   "metadata": {},
   "source": [
    "# Seq2Seq Translation using skorch\n",
    "\n",
    "This notebook demonstrates how to use the code from the [sequence-to-sequence tutorial][1] with skorch!\n",
    "\n",
    "[1]: http://pytorch.org/tutorials/intermediate/seq2seq_translation_tutorial.html"
   ]
  },
  {
   "cell_type": "code",
   "execution_count": 1,
   "metadata": {},
   "outputs": [],
   "source": [
    "import random\n",
    "\n",
    "import matplotlib.pyplot as plt\n",
    "import numpy as np\n",
    "import torch\n",
    "import torch.nn as nn\n",
    "import torch.nn.functional as F\n",
    "import sklearn\n",
    "import skorch\n",
    "\n",
    "from skorch.utils import params_for\n",
    "from torch.autograd import Variable"
   ]
  },
  {
   "cell_type": "code",
   "execution_count": 2,
   "metadata": {},
   "outputs": [],
   "source": [
    "%matplotlib inline"
   ]
  },
  {
   "cell_type": "markdown",
   "metadata": {},
   "source": [
    "### Loading data\n",
    "\n",
    "We use the same data loading routines as the tutorial but for the\n",
    "sake of brevity we will leave it out of the notebook and simply\n",
    "import the code from `data.py`. If you don't have the data already, \n",
    "you can download it from http://www.manythings.org/anki/. \n",
    "\n",
    "For this notebook to run you need to\n",
    "\n",
    "- create a `data/` dir\n",
    "- download http://www.manythings.org/anki/fra-eng.zip\n",
    "- extract `fra.txt` from `fra-eng.zip` to `data/eng-fra.txt`"
   ]
  },
  {
   "cell_type": "code",
   "execution_count": 3,
   "metadata": {},
   "outputs": [],
   "source": [
    "import data"
   ]
  },
  {
   "cell_type": "code",
   "execution_count": 4,
   "metadata": {},
   "outputs": [
    {
     "name": "stdout",
     "output_type": "stream",
     "text": [
      "Reading lines...\n",
      "Read 135842 sentence pairs\n",
      "Trimmed to 10853 sentence pairs\n",
      "Counting words...\n",
      "Counted words:\n",
      "fra 4489\n",
      "eng 2925\n"
     ]
    }
   ],
   "source": [
    "input_lang, output_lang, pairs = data.prepareData('eng', 'fra', True)"
   ]
  },
  {
   "cell_type": "code",
   "execution_count": 5,
   "metadata": {},
   "outputs": [
    {
     "name": "stdout",
     "output_type": "stream",
     "text": [
      "['je ne veux pas m en meler .', 'i m staying out of it .']\n"
     ]
    }
   ],
   "source": [
    "print(random.choice(pairs))"
   ]
  },
  {
   "cell_type": "markdown",
   "metadata": {},
   "source": [
    "# Model\n",
    "\n",
    "The seq2seq model code itself consists of the encoder and the decoder which we can use 1:1 from the example."
   ]
  },
  {
   "cell_type": "markdown",
   "metadata": {},
   "source": [
    "## Encoder"
   ]
  },
  {
   "cell_type": "code",
   "execution_count": 6,
   "metadata": {},
   "outputs": [],
   "source": [
    "class EncoderRNN(nn.Module):\n",
    "    def __init__(self, input_size, hidden_size, n_layers=1):\n",
    "        super(EncoderRNN, self).__init__()\n",
    "        self.n_layers = n_layers\n",
    "        self.hidden_size = hidden_size\n",
    "\n",
    "        self.embedding = nn.Embedding(input_size, hidden_size)\n",
    "        self.gru = nn.GRU(hidden_size, hidden_size)\n",
    "\n",
    "    def forward(self, input, hidden):\n",
    "        embedded = self.embedding(input).view(1, 1, -1)        \n",
    "        output = embedded\n",
    "        for i in range(self.n_layers):\n",
    "            output, hidden = self.gru(output, hidden)\n",
    "        return output, hidden\n",
    "\n",
    "    def initHidden(self, use_cuda):\n",
    "        result = Variable(torch.zeros(1, 1, self.hidden_size))\n",
    "        if use_cuda:\n",
    "            return result.cuda()\n",
    "        else:\n",
    "            return result"
   ]
  },
  {
   "cell_type": "markdown",
   "metadata": {},
   "source": [
    "## Decoder"
   ]
  },
  {
   "cell_type": "code",
   "execution_count": 7,
   "metadata": {},
   "outputs": [],
   "source": [
    "class AttnDecoderRNN(nn.Module):\n",
    "    def __init__(self, hidden_size, output_size, n_layers=1, dropout_p=0.1, max_length=data.MAX_LENGTH):\n",
    "        super(AttnDecoderRNN, self).__init__()\n",
    "        self.hidden_size = hidden_size\n",
    "        self.output_size = output_size\n",
    "        self.n_layers = n_layers\n",
    "        self.dropout_p = dropout_p\n",
    "        self.max_length = max_length\n",
    "\n",
    "        self.embedding = nn.Embedding(self.output_size, self.hidden_size)\n",
    "        self.attn = nn.Linear(self.hidden_size * 2, self.max_length)\n",
    "        self.attn_combine = nn.Linear(self.hidden_size * 2, self.hidden_size)\n",
    "        self.dropout = nn.Dropout(self.dropout_p)\n",
    "        self.gru = nn.GRU(self.hidden_size, self.hidden_size)\n",
    "        self.out = nn.Linear(self.hidden_size, self.output_size)\n",
    "\n",
    "    def forward(self, input, hidden, encoder_output, encoder_outputs):\n",
    "        embedded = self.embedding(input).view(1, 1, -1)\n",
    "        embedded = self.dropout(embedded)\n",
    "\n",
    "        attn_weights = F.softmax(\n",
    "            self.attn(torch.cat((embedded[0], hidden[0]), 1)), dim=-1)\n",
    "        attn_applied = torch.bmm(attn_weights.unsqueeze(0),\n",
    "                                 encoder_outputs.unsqueeze(0))\n",
    "\n",
    "        output = torch.cat((embedded[0], attn_applied[0]), 1)\n",
    "        output = self.attn_combine(output).unsqueeze(0)\n",
    "\n",
    "        for i in range(self.n_layers):\n",
    "            output = F.relu(output)\n",
    "            output, hidden = self.gru(output, hidden)\n",
    "\n",
    "        output = F.log_softmax(self.out(output[0]), dim=-1)\n",
    "        return output, hidden, attn_weights\n",
    "\n",
    "    def initHidden(self, use_cuda):\n",
    "        result = Variable(torch.zeros(1, 1, self.hidden_size))\n",
    "        if use_cuda:\n",
    "            return result.cuda()\n",
    "        else:\n",
    "            return result"
   ]
  },
  {
   "cell_type": "markdown",
   "metadata": {},
   "source": [
    "## Seq2Seq Glue Model\n",
    "\n",
    "In the original code the encoder and decoder are combined in the training and\n",
    "evaluation code. We refrain from doing this and define a `Seq2Seq`-model that\n",
    "unites both and allows us to have a single point of entry and avoids code\n",
    "duplication for inference and training."
   ]
  },
  {
   "cell_type": "code",
   "execution_count": 8,
   "metadata": {},
   "outputs": [],
   "source": [
    "class Seq2Seq(nn.Module):\n",
    "    def __init__(\n",
    "        self, \n",
    "        encoder, \n",
    "        decoder,\n",
    "        teacher_forcing_ratio=0.5,\n",
    "        hidden_size=256,\n",
    "        max_length=data.MAX_LENGTH,\n",
    "        **kwargs\n",
    "    ):\n",
    "        super().__init__()\n",
    "        self.encoder = encoder(hidden_size=hidden_size, **params_for('encoder', kwargs))\n",
    "        self.decoder = decoder(hidden_size=hidden_size, **params_for('decoder', kwargs))\n",
    "        self.max_length = max_length\n",
    "        self.teacher_forcing_ratio = teacher_forcing_ratio\n",
    "        \n",
    "    def forward(self, x, y=None):\n",
    "        # Encode the input x to the thought vector stored in encoder_outputs.\n",
    "        encoder_hidden = self.encoder.initHidden(use_cuda=x.is_cuda)\n",
    "        encoder_outputs = Variable(torch.zeros(self.max_length, self.encoder.hidden_size))\n",
    "        encoder_outputs = encoder_outputs.cuda() if x.is_cuda else encoder_outputs\n",
    "                \n",
    "        for ei in range(x.size(1)):\n",
    "            encoder_output, encoder_hidden = self.encoder(x[0, ei], encoder_hidden)\n",
    "            encoder_outputs[ei] = encoder_output[0][0]\n",
    "\n",
    "        use_teacher_forcing = y is not None and random.random() < self.teacher_forcing_ratio\n",
    "        ys = []\n",
    "                \n",
    "        target_length = self.max_length if y is None else y.size(1)\n",
    "        target_variable = y\n",
    "        \n",
    "        # Decode the thought vector into the target sequence beginning with a \n",
    "        # start-of-sentence (SOS) token.\n",
    "        decoder_input = Variable(torch.LongTensor([[data.SOS_token]]))                                               \n",
    "        decoder_input = decoder_input.cuda() if x.is_cuda else decoder_input                                     \n",
    "        decoder_hidden = encoder_hidden\n",
    "                \n",
    "        if use_teacher_forcing:\n",
    "            # Teacher forcing: Feed the target as the next input\n",
    "            for di in range(target_length):\n",
    "                decoder_output, decoder_hidden, decoder_attention = self.decoder(\n",
    "                    decoder_input, decoder_hidden, encoder_output, encoder_outputs)\n",
    "                ys.append(decoder_output)\n",
    "                decoder_input = target_variable[0, di]  # Teacher forcing\n",
    "\n",
    "        else:\n",
    "            # Without teacher forcing: use its own predictions as the next input\n",
    "            for di in range(target_length):\n",
    "                decoder_output, decoder_hidden, decoder_attention = self.decoder(\n",
    "                    decoder_input, decoder_hidden, encoder_output, encoder_outputs)\n",
    "                topv, topi = decoder_output.data.topk(1)\n",
    "                ni = topi[0][0]\n",
    "\n",
    "                decoder_input = Variable(torch.LongTensor([[ni]]))\n",
    "                decoder_input = decoder_input.cuda() if x.is_cuda else decoder_input\n",
    "\n",
    "                ys.append(decoder_output)\n",
    "                if ni == data.EOS_token:\n",
    "                    break\n",
    "                    \n",
    "        return torch.stack(ys, dim=1)"
   ]
  },
  {
   "cell_type": "markdown",
   "metadata": {},
   "source": [
    "# Training\n",
    "\n",
    "After defining the necessary components we can prepare everything for the training itself."
   ]
  },
  {
   "cell_type": "markdown",
   "metadata": {},
   "source": [
    "### Prerequisites\n",
    "\n",
    "Some fluff taken 1:1 from the original code."
   ]
  },
  {
   "cell_type": "code",
   "execution_count": 9,
   "metadata": {},
   "outputs": [],
   "source": [
    "def indexesFromSentence(lang, sentence):\n",
    "    return [lang.word2index[word] for word in sentence.split(' ')]\n",
    "\n",
    "\n",
    "def variableFromSentence(lang, sentence):\n",
    "    indexes = indexesFromSentence(lang, sentence)\n",
    "    indexes.append(data.EOS_token)\n",
    "    result = Variable(torch.LongTensor(indexes).view(-1, 1))\n",
    "    if use_cuda:\n",
    "        return result.cuda()\n",
    "    else:\n",
    "        return result\n",
    "    \n",
    "\n",
    "def variablesFromPair(pair):\n",
    "    input_variable = variableFromSentence(input_lang, pair[0])\n",
    "    target_variable = variableFromSentence(output_lang, pair[1])\n",
    "    return (input_variable, target_variable)"
   ]
  },
  {
   "cell_type": "markdown",
   "metadata": {},
   "source": [
    "### Wrapping the seq2seq model in skorch\n",
    "\n",
    "Now we can wrap our model into a `skorch.NeuralNet` where we \n",
    "define how our seq2seq model is trained. For this we need only a few things:\n",
    "\n",
    "1. A proper loss\n",
    "2. The training step (data flow in and out of the model)\n",
    "\n",
    "Since we are dealing with variable length sequences produced\n",
    "by the model we also have to deal with those in the evaluation step,\n",
    "namely `predict` and `predict_proba` where we can solve this issue \n",
    "by returning a sequence that is padded to a fixed length.\n",
    "\n",
    "Another extra is that the tutorial uses two separate optimizers for\n",
    "the encoder and the decoder. We can implement this as well, even though\n",
    "it does not make a difference with SGD, it might make a difference when\n",
    "using Adam, for example. We can evaluate this difference by doing a \n",
    "grid search over the possible optimizer encoders. For this we will\n",
    "need a `score()` function as well."
   ]
  },
  {
   "cell_type": "code",
   "execution_count": 10,
   "metadata": {},
   "outputs": [],
   "source": [
    "class Trainer(skorch.NeuralNet):\n",
    "    \n",
    "    def __init__(\n",
    "        self, \n",
    "        *args, \n",
    "        optimizer_encoder=torch.optim.SGD, \n",
    "        optimizer_decoder=torch.optim.SGD,\n",
    "        **kwargs\n",
    "    ):\n",
    "        self.optimizer_encoder = optimizer_encoder\n",
    "        self.optimizer_decoder = optimizer_decoder\n",
    "        super().__init__(*args, **kwargs)\n",
    "    \n",
    "    def initialize_optimizer(self):\n",
    "        kwargs = self._get_params_for('optimizer_encoder')\n",
    "        self.optimizer_encoder_ = self.optimizer_encoder(self.module_.encoder.parameters(), **kwargs)\n",
    "        kwargs = self._get_params_for('optimizer_decoder')\n",
    "        self.optimizer_decoder_ = self.optimizer_decoder(self.module_.decoder.parameters(), **kwargs)\n",
    "\n",
    "    def train_step(self, Xi, yi):\n",
    "        self.module_.train()\n",
    "        \n",
    "        self.optimizer_encoder_.zero_grad()\n",
    "        self.optimizer_decoder_.zero_grad()\n",
    "\n",
    "        y_pred = self.infer(Xi, yi)\n",
    "        loss = self.get_loss(y_pred, yi, X=Xi, training=True)\n",
    "        loss.backward()\n",
    "        \n",
    "        self.optimizer_encoder_.step()\n",
    "        self.optimizer_decoder_.step()\n",
    "        \n",
    "        return loss\n",
    "\n",
    "    def infer(self, Xi, yi=None):\n",
    "        Xi = skorch.utils.to_tensor(Xi, use_cuda=self.use_cuda)\n",
    "        yi = skorch.utils.to_tensor(yi, use_cuda=self.use_cuda) if yi is not None else None\n",
    "        return self.module_(Xi, yi)\n",
    "    \n",
    "    def get_loss(self, y_pred, y_true, **kwargs):\n",
    "        y_true = y_true[:, :y_pred.size(1)]        \n",
    "        y_pred_flat = y_pred.view(y_pred.size(0) * y_pred.size(1), -1)\n",
    "        y_true_flat = y_true.view(y_true.size(0) * y_true.size(1))\n",
    "        \n",
    "        return super().get_loss(\n",
    "            y_pred_flat,\n",
    "            y_true_flat,\n",
    "            **kwargs)\n",
    "    \n",
    "    def _predict(self, X, most_probable=True):\n",
    "        # return either predicted word probabilities or the most probable \n",
    "        # word using argmax.\n",
    "        y_probas = []\n",
    "        for yp in self.forward_iter(X, training=False):\n",
    "            if most_probable:\n",
    "                pad = np.zeros((yp.size(0), data.MAX_LENGTH))\n",
    "                pad[:, :yp.size(1)] = skorch.utils.to_numpy(yp.max(-1)[-1])\n",
    "            else:\n",
    "                pad = np.zeros((yp.size(0), data.MAX_LENGTH, yp.size(-1)))\n",
    "                pad[:, :yp.size(1)] = skorch.utils.to_numpy(yp)\n",
    "            y_probas.append(pad)\n",
    "        y_proba = np.concatenate(y_probas, 0)\n",
    "        return y_proba\n",
    "    \n",
    "    def predict_proba(self, X):\n",
    "        return self._predict(X, most_probable=False)\n",
    "    \n",
    "    def predict(self, X):\n",
    "        return self._predict(X, most_probable=True)\n",
    "    \n",
    "    def score(self, X, y):\n",
    "        y_pred = self.predict(X)\n",
    "        y_true = y_pred.copy()\n",
    "        \n",
    "        for i, yi in enumerate(y):\n",
    "            yi = skorch.utils.to_numpy(yi.squeeze())\n",
    "            y_true[:, :len(yi)] = yi\n",
    "        \n",
    "        return sklearn.metrics.accuracy_score(y_true.flatten(), y_pred.flatten())\n",
    "    "
   ]
  },
  {
   "cell_type": "markdown",
   "metadata": {},
   "source": [
    "### Running the training process"
   ]
  },
  {
   "cell_type": "markdown",
   "metadata": {},
   "source": [
    "For reasons of practicality we set `n_iters` to a relatively low number so that the training\n",
    "finishes in a few minutes rather than hours. If you want better accuracy, you just need\n",
    "to increase this number. The original code uses `n_iters=75000`."
   ]
  },
  {
   "cell_type": "code",
   "execution_count": 11,
   "metadata": {},
   "outputs": [],
   "source": [
    "n_iters = 7500\n",
    "use_cuda = True"
   ]
  },
  {
   "cell_type": "markdown",
   "metadata": {},
   "source": [
    "We create the training pairs from the first `n_iters` samples. Since the training data is sorted\n",
    "by length this has the added benefit that we can evaluate shorter (and therefore easier) sequences\n",
    "fast and increase the difficulty incrementally by increasing `n_iters`."
   ]
  },
  {
   "cell_type": "code",
   "execution_count": 12,
   "metadata": {},
   "outputs": [],
   "source": [
    "training_pairs = [variablesFromPair(pairs[i]) for i in range(n_iters)]"
   ]
  },
  {
   "cell_type": "markdown",
   "metadata": {},
   "source": [
    "We can now instantiate the `Trainer` with the parameters we want to train our model with:"
   ]
  },
  {
   "cell_type": "code",
   "execution_count": 13,
   "metadata": {},
   "outputs": [],
   "source": [
    "trainer = Trainer(\n",
    "    criterion=torch.nn.NLLLoss,\n",
    "    \n",
    "    # We extended the trainer to support two optimizers\n",
    "    # but to get the behavior of one optimizer we can \n",
    "    # simply use SGD for both, just like in the tutorial.\n",
    "    optimizer_encoder=torch.optim.SGD,\n",
    "    optimizer_encoder__lr=0.01,\n",
    "    optimizer_decoder=torch.optim.SGD,\n",
    "    optimizer_decoder__lr=0.01,\n",
    "    \n",
    "    module=Seq2Seq,\n",
    "    module__hidden_size=256,\n",
    "\n",
    "    module__encoder=EncoderRNN,\n",
    "    module__encoder__input_size=input_lang.n_words,\n",
    "    \n",
    "    module__decoder=AttnDecoderRNN,\n",
    "    module__decoder__output_size=output_lang.n_words,\n",
    "    module__decoder__dropout_p=0.1,\n",
    "    \n",
    "    # We have no internal validation.\n",
    "    train_split=None,\n",
    "    \n",
    "    # The decoding code is not meant to be batched\n",
    "    # so we have to deal with a batch size of 1 for\n",
    "    # both training and validation/prediction.\n",
    "    iterator_train__batch_size=1,\n",
    "    iterator_valid__batch_size=1,\n",
    "    \n",
    "    # We are training only one large epoch.\n",
    "    max_epochs=1,\n",
    "    \n",
    "    # Training takes a long time, add a progress bar\n",
    "    # to see how far in we are. Since we are doing \n",
    "    # grid search with cross-validation splits and the\n",
    "    # total amount of batches_per_epoch varies, we set\n",
    "    # the batches_per_epoch method to 'auto', instead \n",
    "    # of the default, 'count'.\n",
    "    callbacks=[\n",
    "        skorch.callbacks.ProgressBar(batches_per_epoch='auto'),\n",
    "    ],\n",
    "    \n",
    "    use_cuda=use_cuda,\n",
    ")"
   ]
  },
  {
   "cell_type": "markdown",
   "metadata": {},
   "source": [
    "Now we just create our X/y pairs, define our parameters for the grid search and run `.fit()` to find the best parametrization of our `Trainer` instance."
   ]
  },
  {
   "cell_type": "code",
   "execution_count": 14,
   "metadata": {},
   "outputs": [],
   "source": [
    "X = np.array([n[0].data for n in training_pairs], dtype=object)\n",
    "y = np.array([n[1].data for n in training_pairs], dtype=object)"
   ]
  },
  {
   "cell_type": "code",
   "execution_count": 15,
   "metadata": {},
   "outputs": [],
   "source": [
    "from sklearn.model_selection import GridSearchCV"
   ]
  },
  {
   "cell_type": "markdown",
   "metadata": {},
   "source": [
    "We use a grid search to determine whether it makes sense to use different optimizers for the encoder and the decoder, in this case we test between Adam and SGD. We expect it to run for `3 * 4 = 12` training iterations as we are using the default 3-fold CV split and have 4 parameter combinations:"
   ]
  },
  {
   "cell_type": "code",
   "execution_count": 16,
   "metadata": {},
   "outputs": [],
   "source": [
    "params = {\n",
    "    'optimizer_encoder': [torch.optim.SGD, torch.optim.Adam],\n",
    "    'optimizer_decoder': [torch.optim.SGD, torch.optim.Adam],\n",
    "}"
   ]
  },
  {
   "cell_type": "code",
   "execution_count": 17,
   "metadata": {},
   "outputs": [],
   "source": [
    "gs = GridSearchCV(trainer, params)"
   ]
  },
  {
   "cell_type": "code",
   "execution_count": 18,
   "metadata": {
    "scrolled": false
   },
   "outputs": [
    {
     "data": {
      "application/vnd.jupyter.widget-view+json": {
       "model_id": "2f5ec514ba7741ca90eb04fb6e814cff",
       "version_major": 2,
       "version_minor": 0
      },
      "text/html": [
       "<p>Failed to display Jupyter Widget of type <code>HBox</code>.</p>\n",
       "<p>\n",
       "  If you're reading this message in Jupyter Notebook or JupyterLab, it may mean\n",
       "  that the widgets JavaScript is still loading. If this message persists, it\n",
       "  likely means that the widgets JavaScript library is either not installed or\n",
       "  not enabled. See the <a href=\"https://ipywidgets.readthedocs.io/en/stable/user_install.html\">Jupyter\n",
       "  Widgets Documentation</a> for setup instructions.\n",
       "</p>\n",
       "<p>\n",
       "  If you're reading this message in another notebook frontend (for example, a static\n",
       "  rendering on GitHub or <a href=\"https://nbviewer.jupyter.org/\">NBViewer</a>),\n",
       "  it may mean that your frontend doesn't currently support widgets.\n",
       "</p>\n"
      ],
      "text/plain": [
       "HBox(children=(IntProgress(value=0, max=5000), HTML(value='')))"
      ]
     },
     "metadata": {},
     "output_type": "display_data"
    },
    {
     "name": "stdout",
     "output_type": "stream",
     "text": [
      "\n",
      "  epoch    train_loss       dur\n",
      "-------  ------------  --------\n",
      "      1        \u001b[36m3.2675\u001b[0m  131.9491\n"
     ]
    },
    {
     "data": {
      "application/vnd.jupyter.widget-view+json": {
       "model_id": "de71ad30cd1c49c0bfe42d3d8731f9fa",
       "version_major": 2,
       "version_minor": 0
      },
      "text/html": [
       "<p>Failed to display Jupyter Widget of type <code>HBox</code>.</p>\n",
       "<p>\n",
       "  If you're reading this message in Jupyter Notebook or JupyterLab, it may mean\n",
       "  that the widgets JavaScript is still loading. If this message persists, it\n",
       "  likely means that the widgets JavaScript library is either not installed or\n",
       "  not enabled. See the <a href=\"https://ipywidgets.readthedocs.io/en/stable/user_install.html\">Jupyter\n",
       "  Widgets Documentation</a> for setup instructions.\n",
       "</p>\n",
       "<p>\n",
       "  If you're reading this message in another notebook frontend (for example, a static\n",
       "  rendering on GitHub or <a href=\"https://nbviewer.jupyter.org/\">NBViewer</a>),\n",
       "  it may mean that your frontend doesn't currently support widgets.\n",
       "</p>\n"
      ],
      "text/plain": [
       "HBox(children=(IntProgress(value=0, max=5000), HTML(value='')))"
      ]
     },
     "metadata": {},
     "output_type": "display_data"
    },
    {
     "name": "stdout",
     "output_type": "stream",
     "text": [
      "\n",
      "  epoch    train_loss       dur\n",
      "-------  ------------  --------\n",
      "      1        \u001b[36m2.9879\u001b[0m  127.7953\n"
     ]
    },
    {
     "data": {
      "application/vnd.jupyter.widget-view+json": {
       "model_id": "f8ea66073a2b4a48910695048d288941",
       "version_major": 2,
       "version_minor": 0
      },
      "text/html": [
       "<p>Failed to display Jupyter Widget of type <code>HBox</code>.</p>\n",
       "<p>\n",
       "  If you're reading this message in Jupyter Notebook or JupyterLab, it may mean\n",
       "  that the widgets JavaScript is still loading. If this message persists, it\n",
       "  likely means that the widgets JavaScript library is either not installed or\n",
       "  not enabled. See the <a href=\"https://ipywidgets.readthedocs.io/en/stable/user_install.html\">Jupyter\n",
       "  Widgets Documentation</a> for setup instructions.\n",
       "</p>\n",
       "<p>\n",
       "  If you're reading this message in another notebook frontend (for example, a static\n",
       "  rendering on GitHub or <a href=\"https://nbviewer.jupyter.org/\">NBViewer</a>),\n",
       "  it may mean that your frontend doesn't currently support widgets.\n",
       "</p>\n"
      ],
      "text/plain": [
       "HBox(children=(IntProgress(value=0, max=5000), HTML(value='')))"
      ]
     },
     "metadata": {},
     "output_type": "display_data"
    },
    {
     "name": "stdout",
     "output_type": "stream",
     "text": [
      "\n",
      "  epoch    train_loss       dur\n",
      "-------  ------------  --------\n",
      "      1        \u001b[36m2.7126\u001b[0m  113.4485\n"
     ]
    },
    {
     "data": {
      "application/vnd.jupyter.widget-view+json": {
       "model_id": "1a6e3c7c1b824f6294a868a26b30f01a",
       "version_major": 2,
       "version_minor": 0
      },
      "text/html": [
       "<p>Failed to display Jupyter Widget of type <code>HBox</code>.</p>\n",
       "<p>\n",
       "  If you're reading this message in Jupyter Notebook or JupyterLab, it may mean\n",
       "  that the widgets JavaScript is still loading. If this message persists, it\n",
       "  likely means that the widgets JavaScript library is either not installed or\n",
       "  not enabled. See the <a href=\"https://ipywidgets.readthedocs.io/en/stable/user_install.html\">Jupyter\n",
       "  Widgets Documentation</a> for setup instructions.\n",
       "</p>\n",
       "<p>\n",
       "  If you're reading this message in another notebook frontend (for example, a static\n",
       "  rendering on GitHub or <a href=\"https://nbviewer.jupyter.org/\">NBViewer</a>),\n",
       "  it may mean that your frontend doesn't currently support widgets.\n",
       "</p>\n"
      ],
      "text/plain": [
       "HBox(children=(IntProgress(value=0, max=5000), HTML(value='')))"
      ]
     },
     "metadata": {},
     "output_type": "display_data"
    },
    {
     "name": "stdout",
     "output_type": "stream",
     "text": [
      "\n",
      "  epoch    train_loss       dur\n",
      "-------  ------------  --------\n",
      "      1        \u001b[36m3.0281\u001b[0m  137.5115\n"
     ]
    },
    {
     "data": {
      "application/vnd.jupyter.widget-view+json": {
       "model_id": "a21d3e6575814172bebe04defc995e73",
       "version_major": 2,
       "version_minor": 0
      },
      "text/html": [
       "<p>Failed to display Jupyter Widget of type <code>HBox</code>.</p>\n",
       "<p>\n",
       "  If you're reading this message in Jupyter Notebook or JupyterLab, it may mean\n",
       "  that the widgets JavaScript is still loading. If this message persists, it\n",
       "  likely means that the widgets JavaScript library is either not installed or\n",
       "  not enabled. See the <a href=\"https://ipywidgets.readthedocs.io/en/stable/user_install.html\">Jupyter\n",
       "  Widgets Documentation</a> for setup instructions.\n",
       "</p>\n",
       "<p>\n",
       "  If you're reading this message in another notebook frontend (for example, a static\n",
       "  rendering on GitHub or <a href=\"https://nbviewer.jupyter.org/\">NBViewer</a>),\n",
       "  it may mean that your frontend doesn't currently support widgets.\n",
       "</p>\n"
      ],
      "text/plain": [
       "HBox(children=(IntProgress(value=0, max=5000), HTML(value='')))"
      ]
     },
     "metadata": {},
     "output_type": "display_data"
    },
    {
     "name": "stdout",
     "output_type": "stream",
     "text": [
      "\n",
      "  epoch    train_loss       dur\n",
      "-------  ------------  --------\n",
      "      1        \u001b[36m2.8009\u001b[0m  132.3799\n"
     ]
    },
    {
     "data": {
      "application/vnd.jupyter.widget-view+json": {
       "model_id": "94a11183bb254e8fbc86d839d1714397",
       "version_major": 2,
       "version_minor": 0
      },
      "text/html": [
       "<p>Failed to display Jupyter Widget of type <code>HBox</code>.</p>\n",
       "<p>\n",
       "  If you're reading this message in Jupyter Notebook or JupyterLab, it may mean\n",
       "  that the widgets JavaScript is still loading. If this message persists, it\n",
       "  likely means that the widgets JavaScript library is either not installed or\n",
       "  not enabled. See the <a href=\"https://ipywidgets.readthedocs.io/en/stable/user_install.html\">Jupyter\n",
       "  Widgets Documentation</a> for setup instructions.\n",
       "</p>\n",
       "<p>\n",
       "  If you're reading this message in another notebook frontend (for example, a static\n",
       "  rendering on GitHub or <a href=\"https://nbviewer.jupyter.org/\">NBViewer</a>),\n",
       "  it may mean that your frontend doesn't currently support widgets.\n",
       "</p>\n"
      ],
      "text/plain": [
       "HBox(children=(IntProgress(value=0, max=5000), HTML(value='')))"
      ]
     },
     "metadata": {},
     "output_type": "display_data"
    },
    {
     "name": "stdout",
     "output_type": "stream",
     "text": [
      "\n",
      "  epoch    train_loss       dur\n",
      "-------  ------------  --------\n",
      "      1        \u001b[36m2.5131\u001b[0m  118.3100\n"
     ]
    },
    {
     "data": {
      "application/vnd.jupyter.widget-view+json": {
       "model_id": "9decf8cf64b04856babdbe19d7124ca0",
       "version_major": 2,
       "version_minor": 0
      },
      "text/html": [
       "<p>Failed to display Jupyter Widget of type <code>HBox</code>.</p>\n",
       "<p>\n",
       "  If you're reading this message in Jupyter Notebook or JupyterLab, it may mean\n",
       "  that the widgets JavaScript is still loading. If this message persists, it\n",
       "  likely means that the widgets JavaScript library is either not installed or\n",
       "  not enabled. See the <a href=\"https://ipywidgets.readthedocs.io/en/stable/user_install.html\">Jupyter\n",
       "  Widgets Documentation</a> for setup instructions.\n",
       "</p>\n",
       "<p>\n",
       "  If you're reading this message in another notebook frontend (for example, a static\n",
       "  rendering on GitHub or <a href=\"https://nbviewer.jupyter.org/\">NBViewer</a>),\n",
       "  it may mean that your frontend doesn't currently support widgets.\n",
       "</p>\n"
      ],
      "text/plain": [
       "HBox(children=(IntProgress(value=0, max=5000), HTML(value='')))"
      ]
     },
     "metadata": {},
     "output_type": "display_data"
    },
    {
     "name": "stdout",
     "output_type": "stream",
     "text": [
      "\n",
      "  epoch    train_loss       dur\n",
      "-------  ------------  --------\n",
      "      1        \u001b[36m9.4750\u001b[0m  132.0239\n"
     ]
    },
    {
     "data": {
      "application/vnd.jupyter.widget-view+json": {
       "model_id": "8b222403a5f341ac95b49e86804e97c3",
       "version_major": 2,
       "version_minor": 0
      },
      "text/html": [
       "<p>Failed to display Jupyter Widget of type <code>HBox</code>.</p>\n",
       "<p>\n",
       "  If you're reading this message in Jupyter Notebook or JupyterLab, it may mean\n",
       "  that the widgets JavaScript is still loading. If this message persists, it\n",
       "  likely means that the widgets JavaScript library is either not installed or\n",
       "  not enabled. See the <a href=\"https://ipywidgets.readthedocs.io/en/stable/user_install.html\">Jupyter\n",
       "  Widgets Documentation</a> for setup instructions.\n",
       "</p>\n",
       "<p>\n",
       "  If you're reading this message in another notebook frontend (for example, a static\n",
       "  rendering on GitHub or <a href=\"https://nbviewer.jupyter.org/\">NBViewer</a>),\n",
       "  it may mean that your frontend doesn't currently support widgets.\n",
       "</p>\n"
      ],
      "text/plain": [
       "HBox(children=(IntProgress(value=0, max=5000), HTML(value='')))"
      ]
     },
     "metadata": {},
     "output_type": "display_data"
    },
    {
     "name": "stdout",
     "output_type": "stream",
     "text": [
      "\n",
      "  epoch    train_loss       dur\n",
      "-------  ------------  --------\n",
      "      1        \u001b[36m9.9583\u001b[0m  129.7532\n"
     ]
    },
    {
     "data": {
      "application/vnd.jupyter.widget-view+json": {
       "model_id": "7ca6ae8eccf64791ae7820beeadc473f",
       "version_major": 2,
       "version_minor": 0
      },
      "text/html": [
       "<p>Failed to display Jupyter Widget of type <code>HBox</code>.</p>\n",
       "<p>\n",
       "  If you're reading this message in Jupyter Notebook or JupyterLab, it may mean\n",
       "  that the widgets JavaScript is still loading. If this message persists, it\n",
       "  likely means that the widgets JavaScript library is either not installed or\n",
       "  not enabled. See the <a href=\"https://ipywidgets.readthedocs.io/en/stable/user_install.html\">Jupyter\n",
       "  Widgets Documentation</a> for setup instructions.\n",
       "</p>\n",
       "<p>\n",
       "  If you're reading this message in another notebook frontend (for example, a static\n",
       "  rendering on GitHub or <a href=\"https://nbviewer.jupyter.org/\">NBViewer</a>),\n",
       "  it may mean that your frontend doesn't currently support widgets.\n",
       "</p>\n"
      ],
      "text/plain": [
       "HBox(children=(IntProgress(value=0, max=5000), HTML(value='')))"
      ]
     },
     "metadata": {},
     "output_type": "display_data"
    },
    {
     "name": "stdout",
     "output_type": "stream",
     "text": [
      "\n",
      "  epoch    train_loss       dur\n",
      "-------  ------------  --------\n",
      "      1        \u001b[36m8.1592\u001b[0m  129.1593\n"
     ]
    },
    {
     "data": {
      "application/vnd.jupyter.widget-view+json": {
       "model_id": "53bf6b909916421fb4d5f0628f01b103",
       "version_major": 2,
       "version_minor": 0
      },
      "text/html": [
       "<p>Failed to display Jupyter Widget of type <code>HBox</code>.</p>\n",
       "<p>\n",
       "  If you're reading this message in Jupyter Notebook or JupyterLab, it may mean\n",
       "  that the widgets JavaScript is still loading. If this message persists, it\n",
       "  likely means that the widgets JavaScript library is either not installed or\n",
       "  not enabled. See the <a href=\"https://ipywidgets.readthedocs.io/en/stable/user_install.html\">Jupyter\n",
       "  Widgets Documentation</a> for setup instructions.\n",
       "</p>\n",
       "<p>\n",
       "  If you're reading this message in another notebook frontend (for example, a static\n",
       "  rendering on GitHub or <a href=\"https://nbviewer.jupyter.org/\">NBViewer</a>),\n",
       "  it may mean that your frontend doesn't currently support widgets.\n",
       "</p>\n"
      ],
      "text/plain": [
       "HBox(children=(IntProgress(value=0, max=5000), HTML(value='')))"
      ]
     },
     "metadata": {},
     "output_type": "display_data"
    },
    {
     "name": "stdout",
     "output_type": "stream",
     "text": [
      "\n",
      "  epoch    train_loss       dur\n",
      "-------  ------------  --------\n",
      "      1       \u001b[36m12.3492\u001b[0m  147.1417\n"
     ]
    },
    {
     "data": {
      "application/vnd.jupyter.widget-view+json": {
       "model_id": "c437a9735fb549b583a991c6497f7013",
       "version_major": 2,
       "version_minor": 0
      },
      "text/html": [
       "<p>Failed to display Jupyter Widget of type <code>HBox</code>.</p>\n",
       "<p>\n",
       "  If you're reading this message in Jupyter Notebook or JupyterLab, it may mean\n",
       "  that the widgets JavaScript is still loading. If this message persists, it\n",
       "  likely means that the widgets JavaScript library is either not installed or\n",
       "  not enabled. See the <a href=\"https://ipywidgets.readthedocs.io/en/stable/user_install.html\">Jupyter\n",
       "  Widgets Documentation</a> for setup instructions.\n",
       "</p>\n",
       "<p>\n",
       "  If you're reading this message in another notebook frontend (for example, a static\n",
       "  rendering on GitHub or <a href=\"https://nbviewer.jupyter.org/\">NBViewer</a>),\n",
       "  it may mean that your frontend doesn't currently support widgets.\n",
       "</p>\n"
      ],
      "text/plain": [
       "HBox(children=(IntProgress(value=0, max=5000), HTML(value='')))"
      ]
     },
     "metadata": {},
     "output_type": "display_data"
    },
    {
     "name": "stdout",
     "output_type": "stream",
     "text": [
      "\n",
      "  epoch    train_loss       dur\n",
      "-------  ------------  --------\n",
      "      1       \u001b[36m11.6884\u001b[0m  137.2093\n"
     ]
    },
    {
     "data": {
      "application/vnd.jupyter.widget-view+json": {
       "model_id": "48abfe7df0e54b38b202c0f44f0648c9",
       "version_major": 2,
       "version_minor": 0
      },
      "text/html": [
       "<p>Failed to display Jupyter Widget of type <code>HBox</code>.</p>\n",
       "<p>\n",
       "  If you're reading this message in Jupyter Notebook or JupyterLab, it may mean\n",
       "  that the widgets JavaScript is still loading. If this message persists, it\n",
       "  likely means that the widgets JavaScript library is either not installed or\n",
       "  not enabled. See the <a href=\"https://ipywidgets.readthedocs.io/en/stable/user_install.html\">Jupyter\n",
       "  Widgets Documentation</a> for setup instructions.\n",
       "</p>\n",
       "<p>\n",
       "  If you're reading this message in another notebook frontend (for example, a static\n",
       "  rendering on GitHub or <a href=\"https://nbviewer.jupyter.org/\">NBViewer</a>),\n",
       "  it may mean that your frontend doesn't currently support widgets.\n",
       "</p>\n"
      ],
      "text/plain": [
       "HBox(children=(IntProgress(value=0, max=5000), HTML(value='')))"
      ]
     },
     "metadata": {},
     "output_type": "display_data"
    },
    {
     "name": "stdout",
     "output_type": "stream",
     "text": [
      "\n",
      "  epoch    train_loss       dur\n",
      "-------  ------------  --------\n",
      "      1       \u001b[36m10.8119\u001b[0m  130.0501\n"
     ]
    },
    {
     "data": {
      "application/vnd.jupyter.widget-view+json": {
       "model_id": "4f51f8b664c2495088790b1c5f2cc114",
       "version_major": 2,
       "version_minor": 0
      },
      "text/html": [
       "<p>Failed to display Jupyter Widget of type <code>HBox</code>.</p>\n",
       "<p>\n",
       "  If you're reading this message in Jupyter Notebook or JupyterLab, it may mean\n",
       "  that the widgets JavaScript is still loading. If this message persists, it\n",
       "  likely means that the widgets JavaScript library is either not installed or\n",
       "  not enabled. See the <a href=\"https://ipywidgets.readthedocs.io/en/stable/user_install.html\">Jupyter\n",
       "  Widgets Documentation</a> for setup instructions.\n",
       "</p>\n",
       "<p>\n",
       "  If you're reading this message in another notebook frontend (for example, a static\n",
       "  rendering on GitHub or <a href=\"https://nbviewer.jupyter.org/\">NBViewer</a>),\n",
       "  it may mean that your frontend doesn't currently support widgets.\n",
       "</p>\n"
      ],
      "text/plain": [
       "HBox(children=(IntProgress(value=0, max=7500), HTML(value='')))"
      ]
     },
     "metadata": {},
     "output_type": "display_data"
    },
    {
     "name": "stdout",
     "output_type": "stream",
     "text": [
      "\n",
      "  epoch    train_loss       dur\n",
      "-------  ------------  --------\n",
      "      1        \u001b[36m2.7968\u001b[0m  192.8046\n"
     ]
    },
    {
     "data": {
      "text/plain": [
       "GridSearchCV(cv=None, error_score='raise',\n",
       "       estimator=<__main__.Trainer object at 0x7fe8878efba8>,\n",
       "       fit_params=None, iid=True, n_jobs=1,\n",
       "       param_grid={'optimizer_encoder': [<class 'torch.optim.sgd.SGD'>, <class 'torch.optim.adam.Adam'>], 'optimizer_decoder': [<class 'torch.optim.sgd.SGD'>, <class 'torch.optim.adam.Adam'>]},\n",
       "       pre_dispatch='2*n_jobs', refit=True, return_train_score='warn',\n",
       "       scoring=None, verbose=0)"
      ]
     },
     "execution_count": 18,
     "metadata": {},
     "output_type": "execute_result"
    }
   ],
   "source": [
    "gs.fit(X, y)"
   ]
  },
  {
   "cell_type": "markdown",
   "metadata": {},
   "source": [
    "So let's look at the best parameters:"
   ]
  },
  {
   "cell_type": "code",
   "execution_count": 19,
   "metadata": {},
   "outputs": [
    {
     "data": {
      "text/plain": [
       "{'optimizer_decoder': torch.optim.sgd.SGD,\n",
       " 'optimizer_encoder': torch.optim.sgd.SGD}"
      ]
     },
     "execution_count": 19,
     "metadata": {},
     "output_type": "execute_result"
    }
   ],
   "source": [
    "gs.best_params_"
   ]
  },
  {
   "cell_type": "markdown",
   "metadata": {},
   "source": [
    "And there we have it: Using two separate optimizers is irrelevant for the set of parameters we evaluated. The best is to just use SGD in for both the encoder and decoder, or, as SGD is stateless, just use a single SGD for both."
   ]
  },
  {
   "cell_type": "markdown",
   "metadata": {},
   "source": [
    "We can now use the estimator with the best configuration to observe how well it translates, but first, let's save the model for later use:"
   ]
  },
  {
   "cell_type": "code",
   "execution_count": 20,
   "metadata": {},
   "outputs": [],
   "source": [
    "ef = gs.best_estimator_"
   ]
  },
  {
   "cell_type": "code",
   "execution_count": 21,
   "metadata": {},
   "outputs": [],
   "source": [
    "ef.save_params('model.pt')"
   ]
  },
  {
   "cell_type": "markdown",
   "metadata": {},
   "source": [
    "# Results"
   ]
  },
  {
   "cell_type": "markdown",
   "metadata": {},
   "source": [
    "### Plot Training Loss"
   ]
  },
  {
   "cell_type": "code",
   "execution_count": 22,
   "metadata": {},
   "outputs": [
    {
     "data": {
      "text/plain": [
       "[<matplotlib.lines.Line2D at 0x7fe88769da20>]"
      ]
     },
     "execution_count": 22,
     "metadata": {},
     "output_type": "execute_result"
    },
    {
     "data": {
      "image/png": "[encoded data removed]",
      "text/plain": [
       "<matplotlib.figure.Figure at 0x7fe88777e320>"
      ]
     },
     "metadata": {},
     "output_type": "display_data"
    }
   ],
   "source": [
    "N = 100\n",
    "plt.plot(np.convolve(ef.history[:,'batches',:,'train_loss'][0], np.ones((N,))/N, mode='valid'))"
   ]
  },
  {
   "cell_type": "markdown",
   "metadata": {},
   "source": [
    "### Evaluate performance on the training set"
   ]
  },
  {
   "cell_type": "code",
   "execution_count": 23,
   "metadata": {},
   "outputs": [],
   "source": [
    "eval_data = X[:10]\n",
    "pred = ef.predict(eval_data)\n",
    "pred_proba = ef.predict_proba(eval_data)"
   ]
  },
  {
   "cell_type": "code",
   "execution_count": 24,
   "metadata": {},
   "outputs": [
    {
     "name": "stdout",
     "output_type": "stream",
     "text": [
      "['j', 'ai', 'ans', '.', 'EOS']\n",
      "['i', 'm', 'a', 'to', 'to', '.', '.', 'EOS', 'SOS', 'SOS']\n",
      "\n",
      "['je', 'vais', 'bien', '.', 'EOS']\n",
      "['i', 'm', 'a', 'to', 'to', '.', '.', 'EOS', 'SOS', 'SOS']\n",
      "\n",
      "['ca', 'va', '.', 'EOS']\n",
      "['i', 'm', 'a', 'to', 'a', '.', '.', 'EOS', 'SOS', 'SOS']\n",
      "\n",
      "['je', 'suis', 'gras', '.', 'EOS']\n",
      "['i', 'm', 'a', 'to', 'to', '.', '.', 'EOS', 'SOS', 'SOS']\n",
      "\n",
      "['je', 'suis', 'gros', '.', 'EOS']\n",
      "['i', 'm', 'a', 'to', 'to', '.', '.', 'EOS', 'SOS', 'SOS']\n",
      "\n",
      "['je', 'suis', 'en', 'forme', '.', 'EOS']\n",
      "['i', 'm', 'a', 'to', 'to', '.', '.', 'EOS', 'SOS', 'SOS']\n",
      "\n",
      "['je', 'suis', 'touche', '!', 'EOS']\n",
      "['i', 'm', 'a', 'to', 'to', '.', '.', 'EOS', 'SOS', 'SOS']\n",
      "\n",
      "['je', 'suis', 'touchee', '!', 'EOS']\n",
      "['i', 'm', 'a', 'to', 'to', '.', '.', 'EOS', 'SOS', 'SOS']\n",
      "\n",
      "['je', 'suis', 'malade', '.', 'EOS']\n",
      "['i', 'm', 'a', 'to', 'to', '.', '.', 'EOS', 'SOS', 'SOS']\n",
      "\n",
      "['je', 'suis', 'triste', '.', 'EOS']\n",
      "['i', 'm', 'a', 'to', 'to', '.', '.', 'EOS', 'SOS', 'SOS']\n",
      "\n"
     ]
    }
   ],
   "source": [
    "for (sent_in, sent_out) in zip(eval_data, pred):\n",
    "    print([input_lang.index2word.get(w[0], '???') for w in sent_in])\n",
    "    print([output_lang.index2word[w] for w in sent_out])\n",
    "    print()"
   ]
  },
  {
   "cell_type": "code",
   "execution_count": null,
   "metadata": {},
   "outputs": [],
   "source": []
  }
 ],
 "metadata": {
  "kernelspec": {
   "display_name": "Python 3",
   "language": "python",
   "name": "python3"
  },
  "language_info": {
   "codemirror_mode": {
    "name": "ipython",
    "version": 3
   },
   "file_extension": ".py",
   "mimetype": "text/x-python",
   "name": "python",
   "nbconvert_exporter": "python",
   "pygments_lexer": "ipython3",
   "version": "3.6.3"
  }
 },
 "nbformat": 4,
 "nbformat_minor": 2
}
